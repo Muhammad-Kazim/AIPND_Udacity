{
 "cells": [
  {
   "cell_type": "code",
   "execution_count": 1,
   "id": "fd855a23",
   "metadata": {},
   "outputs": [],
   "source": [
    "# https://nextjournal.com/gkoehler/pytorch-mnist\n",
    "# https://towardsdatascience.com/handwritten-digit-mnist-pytorch-977b5338e627"
   ]
  },
  {
   "cell_type": "code",
   "execution_count": 2,
   "id": "6c19d3f3",
   "metadata": {},
   "outputs": [],
   "source": [
    "import torch\n",
    "import torchvision"
   ]
  },
  {
   "cell_type": "code",
   "execution_count": 3,
   "id": "3729d9d5",
   "metadata": {},
   "outputs": [
    {
     "data": {
      "text/plain": [
       "<torch._C.Generator at 0x1840a468bf0>"
      ]
     },
     "execution_count": 3,
     "metadata": {},
     "output_type": "execute_result"
    }
   ],
   "source": [
    "n_epochs = 3\n",
    "batch_size_train = 64\n",
    "batch_size_test = 1000\n",
    "learning_rate = 0.01\n",
    "momentum = 0.5\n",
    "log_interval = 10\n",
    "\n",
    "random_seed = 1\n",
    "torch.backends.cudnn.enabled = False\n",
    "torch.manual_seed(random_seed)"
   ]
  },
  {
   "cell_type": "code",
   "execution_count": null,
   "id": "de41e821",
   "metadata": {},
   "outputs": [],
   "source": [
    "# dataset -> images, transform\n",
    "# for e in epochs:\n",
    "    # dataloader -> iteration -> for images, lables in dataloder:\n",
    "    # model -> pred_label = model(images)\n",
    "    # criterion -> loss = criterion(pred_label, label)\n",
    "    # loss.backprop\n",
    "    # optimizer -> optim.step"
   ]
  },
  {
   "cell_type": "code",
   "execution_count": null,
   "id": "afc1ecc8",
   "metadata": {},
   "outputs": [],
   "source": [
    "# class FaceLandmarksDataset(Dataset):\n",
    "#     \"\"\"Face Landmarks dataset.\"\"\"\n",
    "\n",
    "#     def __init__(self, csv_file, root_dir, transform=None):\n",
    "#         \"\"\"\n",
    "#         Args:\n",
    "#             csv_file (string): Path to the csv file with annotations.\n",
    "#             root_dir (string): Directory with all the images.\n",
    "#             transform (callable, optional): Optional transform to be applied\n",
    "#                 on a sample.\n",
    "#         \"\"\"\n",
    "#         self.landmarks_frame = pd.read_csv(csv_file)\n",
    "#         self.root_dir = root_dir\n",
    "#         self.transform = transform\n",
    "\n",
    "#     def __len__(self):\n",
    "#         return len(self.landmarks_frame)\n",
    "\n",
    "#     def __getitem__(self, idx):\n",
    "#         if torch.is_tensor(idx):\n",
    "#             idx = idx.tolist()\n",
    "\n",
    "#         img_name = os.path.join(self.root_dir,\n",
    "#                                 self.landmarks_frame.iloc[idx, 0])\n",
    "#         image = io.imread(img_name)\n",
    "#         landmarks = self.landmarks_frame.iloc[idx, 1:]\n",
    "#         landmarks = np.array([landmarks])\n",
    "#         landmarks = landmarks.astype('float').reshape(-1, 2)\n",
    "#         sample = {'image': image, 'landmarks': landmarks}\n",
    "\n",
    "#         if self.transform:\n",
    "#             sample = self.transform(sample)\n",
    "\n",
    "#         return sample"
   ]
  },
  {
   "cell_type": "code",
   "execution_count": null,
   "id": "433f7a78",
   "metadata": {},
   "outputs": [],
   "source": [
    "# from PIL import Image\n",
    "# Image.open('path/to/img')"
   ]
  },
  {
   "cell_type": "code",
   "execution_count": null,
   "id": "729a0563",
   "metadata": {},
   "outputs": [],
   "source": [
    "# channels x dim x dim\n",
    "# 1 x 28 x 28"
   ]
  },
  {
   "cell_type": "code",
   "execution_count": null,
   "id": "d24b98d1",
   "metadata": {},
   "outputs": [],
   "source": [
    "# for e in epochs:\n",
    "#     for data, label in dataloader:"
   ]
  },
  {
   "cell_type": "code",
   "execution_count": null,
   "id": "d58e9f0b",
   "metadata": {},
   "outputs": [],
   "source": [
    "# [\n",
    "# [[1 ,2],\n",
    "#  [2, 3]]\n",
    "# [[1 ,2],\n",
    "#  [2, 3]]\n",
    "# [[1 ,2],\n",
    "#  [2, 3]]\n",
    "# ]\n",
    "\n",
    "# 3x28x28\n",
    "# 1x28x28 -> R\n",
    "# 1x28x28 -> G\n",
    "# 1x28x28 -> B\n",
    "\n",
    "# opencv\n",
    "# img = cv2.imread()\n",
    "# img.shape\n",
    "# 28x28x3"
   ]
  },
  {
   "cell_type": "code",
   "execution_count": 96,
   "id": "a2be33cf",
   "metadata": {},
   "outputs": [],
   "source": [
    "transforms = torchvision.transforms.Compose([\n",
    "    torchvision.transforms.ToTensor(),\n",
    "    torchvision.transforms.Normalize((0.1307,), (0.3081,))\n",
    "])"
   ]
  },
  {
   "cell_type": "code",
   "execution_count": 25,
   "id": "734d55e8",
   "metadata": {},
   "outputs": [],
   "source": [
    "train_dataset = torchvision.datasets.MNIST('/files/', train=True, download=True, transform=transforms)\n",
    "test_dataset = torchvision.datasets.MNIST('/files/', train=False, download=True, transform=transforms)"
   ]
  },
  {
   "cell_type": "code",
   "execution_count": 97,
   "id": "4c936287",
   "metadata": {},
   "outputs": [
    {
     "data": {
      "text/plain": [
       "(60000, 10000)"
      ]
     },
     "execution_count": 97,
     "metadata": {},
     "output_type": "execute_result"
    }
   ],
   "source": [
    "len(train_dataset), len(test_dataset)"
   ]
  },
  {
   "cell_type": "code",
   "execution_count": 98,
   "id": "760f7bde",
   "metadata": {},
   "outputs": [
    {
     "data": {
      "text/plain": [
       "Dataset MNIST\n",
       "    Number of datapoints: 60000\n",
       "    Root location: /files/\n",
       "    Split: Train\n",
       "    StandardTransform\n",
       "Transform: Compose(\n",
       "               ToTensor()\n",
       "               Normalize(mean=(0.1307,), std=(0.3081,))\n",
       "           )"
      ]
     },
     "execution_count": 98,
     "metadata": {},
     "output_type": "execute_result"
    }
   ],
   "source": [
    "train_dataset"
   ]
  },
  {
   "cell_type": "code",
   "execution_count": 26,
   "id": "9d9db3bc",
   "metadata": {},
   "outputs": [],
   "source": [
    "train_loader = torch.utils.data.DataLoader(train_dataset, batch_size=batch_size_train, shuffle=True)\n",
    "test_loader = torch.utils.data.DataLoader(test_dataset, batch_size=batch_size_test, shuffle=False)"
   ]
  },
  {
   "cell_type": "code",
   "execution_count": 99,
   "id": "8b400a86",
   "metadata": {},
   "outputs": [],
   "source": [
    "examples = enumerate(test_loader)\n",
    "batch_idx, (example_data, example_targets) = next(examples)"
   ]
  },
  {
   "cell_type": "code",
   "execution_count": 100,
   "id": "d031b48c",
   "metadata": {},
   "outputs": [
    {
     "data": {
      "text/plain": [
       "(torch.Size([1000, 1, 28, 28]), torch.Size([1000]))"
      ]
     },
     "execution_count": 100,
     "metadata": {},
     "output_type": "execute_result"
    }
   ],
   "source": [
    "example_data.shape, example_targets.shape"
   ]
  },
  {
   "cell_type": "code",
   "execution_count": null,
   "id": "d18db2d3",
   "metadata": {},
   "outputs": [],
   "source": [
    "# for idx, (data, label) in enumerate(test_loader):\n",
    "#     data = 1000, 1,28,28\n",
    "#     label= 1000"
   ]
  },
  {
   "cell_type": "code",
   "execution_count": null,
   "id": "5ce41b86",
   "metadata": {},
   "outputs": [],
   "source": [
    "# pytorch lightning"
   ]
  },
  {
   "cell_type": "code",
   "execution_count": 136,
   "id": "1dba0a0e",
   "metadata": {},
   "outputs": [],
   "source": [
    "# data augment\n",
    "rotater = torchvision.transforms.RandomRotation(degrees=(0, 180))"
   ]
  },
  {
   "cell_type": "code",
   "execution_count": 138,
   "id": "7c0c2281",
   "metadata": {},
   "outputs": [
    {
     "data": {
      "image/png": "[encoded data removed]",
      "text/plain": [
       "<Figure size 640x480 with 6 Axes>"
      ]
     },
     "metadata": {},
     "output_type": "display_data"
    }
   ],
   "source": [
    "import matplotlib.pyplot as plt\n",
    "\n",
    "fig = plt.figure()\n",
    "for i in range(6):\n",
    "    plt.subplot(2,3,i+1)\n",
    "    plt.tight_layout()\n",
    "    plt.imshow(example_data[i][0], cmap='gray')\n",
    "#     plt.imshow(rotater(example_data[i])[0], cmap='gray', interpolation='none')\n",
    "    plt.title(\"Ground Truth: {}\".format(example_targets[i]))\n",
    "    plt.xticks([])\n",
    "    plt.yticks([])"
   ]
  },
  {
   "cell_type": "code",
   "execution_count": null,
   "id": "0d7cdb96",
   "metadata": {},
   "outputs": [],
   "source": []
  },
  {
   "cell_type": "markdown",
   "id": "a3b538ef",
   "metadata": {},
   "source": [
    "# FCNN"
   ]
  },
  {
   "cell_type": "code",
   "execution_count": 139,
   "id": "109ffe57",
   "metadata": {},
   "outputs": [],
   "source": [
    "import torch.nn as nn\n",
    "import torch.nn.functional as F\n",
    "import torch.optim as optim\n",
    "from time import time\n",
    "import numpy as np"
   ]
  },
  {
   "cell_type": "code",
   "execution_count": 110,
   "id": "d545b811",
   "metadata": {},
   "outputs": [],
   "source": [
    "# softmax = exp(x)/(sum_x exp(x))"
   ]
  },
  {
   "cell_type": "code",
   "execution_count": 142,
   "id": "5166afe2",
   "metadata": {},
   "outputs": [
    {
     "name": "stdout",
     "output_type": "stream",
     "text": [
      "Sequential(\n",
      "  (0): Linear(in_features=784, out_features=128, bias=True)\n",
      "  (1): ReLU()\n",
      "  (2): Linear(in_features=128, out_features=64, bias=True)\n",
      "  (3): ReLU()\n",
      "  (4): Linear(in_features=64, out_features=10, bias=True)\n",
      "  (5): LogSoftmax(dim=1)\n",
      ")\n"
     ]
    }
   ],
   "source": [
    "input_size = 784\n",
    "hidden_sizes = [128, 64]\n",
    "output_size = 10\n",
    "\n",
    "model = nn.Sequential(nn.Linear(input_size, hidden_sizes[0]),\n",
    "                      nn.ReLU(),\n",
    "                      nn.Linear(hidden_sizes[0], hidden_sizes[1]),\n",
    "                      nn.ReLU(),\n",
    "                      nn.Linear(hidden_sizes[1], output_size),\n",
    "                      nn.LogSoftmax(dim=1))\n",
    "print(model)"
   ]
  },
  {
   "cell_type": "code",
   "execution_count": 112,
   "id": "ce9f82b3",
   "metadata": {},
   "outputs": [],
   "source": [
    "# model = Net()\n",
    "# model(img)\n",
    "# torch.tensor(size, requires_grad=True)"
   ]
  },
  {
   "cell_type": "code",
   "execution_count": 113,
   "id": "fb915439",
   "metadata": {},
   "outputs": [],
   "source": [
    "# class Net(nn.Module):\n",
    "#     def __init__(self):\n",
    "#         super(Net, self).__init__()\n",
    "        \n",
    "#         self.fc1 = nn.Linear(784, 128)\n",
    "#         self.fc2 = nn.Linear(128, 64)\n",
    "#         self.fc3 = nn.Linear(64, 10)\n",
    "\n",
    "#     def forward(self, x):\n",
    "#         x = x.view(-1, 784)\n",
    "# #         x.shape = 1000, 784\n",
    "#         x = F.relu(self.fc1(x))\n",
    "#         x = F.relu(self.fc2(x))\n",
    "#         x = self.fc3(x)\n",
    "#         return F.log_softmax(x)"
   ]
  },
  {
   "cell_type": "code",
   "execution_count": 141,
   "id": "b0a00d91",
   "metadata": {},
   "outputs": [
    {
     "data": {
      "text/plain": [
       "(torch.Size([64, 128]),\n",
       " Parameter containing:\n",
       " tensor([[ 0.0628, -0.0412,  0.0645,  ..., -0.0816,  0.0515, -0.0111],\n",
       "         [ 0.0575, -0.0193, -0.0518,  ..., -0.0262, -0.0826, -0.0479],\n",
       "         [ 0.0851, -0.0130,  0.0568,  ...,  0.0755,  0.0441, -0.0348],\n",
       "         ...,\n",
       "         [ 0.0428,  0.0458, -0.0801,  ...,  0.0292,  0.0554,  0.0112],\n",
       "         [ 0.0434,  0.0882, -0.0880,  ..., -0.0500,  0.0604, -0.0427],\n",
       "         [ 0.0031,  0.0471,  0.0229,  ..., -0.0645,  0.0445, -0.0683]],\n",
       "        requires_grad=True))"
      ]
     },
     "execution_count": 141,
     "metadata": {},
     "output_type": "execute_result"
    }
   ],
   "source": [
    "model[2].weight.shape, model[2].weight"
   ]
  },
  {
   "cell_type": "code",
   "execution_count": 115,
   "id": "54346fbb",
   "metadata": {},
   "outputs": [
    {
     "data": {
      "text/plain": [
       "(torch.Size([64]),\n",
       " Parameter containing:\n",
       " tensor([-0.0323,  0.0086, -0.0338, -0.0231, -0.0107,  0.0447, -0.0234,  0.0570,\n",
       "         -0.0612, -0.0814, -0.0616,  0.0666, -0.0507, -0.0848, -0.0345,  0.0699,\n",
       "         -0.0486,  0.0664,  0.0754, -0.0083, -0.0836, -0.0742, -0.0501, -0.0838,\n",
       "          0.0505, -0.0731,  0.0554,  0.0439, -0.0337,  0.0250,  0.0530, -0.0414,\n",
       "          0.0845, -0.0384,  0.0007,  0.0117, -0.0529,  0.0849, -0.0720,  0.0677,\n",
       "          0.0176,  0.0198,  0.0476, -0.0358,  0.0673,  0.0410,  0.0336, -0.0579,\n",
       "         -0.0351, -0.0678, -0.0574, -0.0577, -0.0146,  0.0327,  0.0343, -0.0387,\n",
       "          0.0371,  0.0047,  0.0758,  0.0378,  0.0094, -0.0061,  0.0451,  0.0809],\n",
       "        requires_grad=True))"
      ]
     },
     "execution_count": 115,
     "metadata": {},
     "output_type": "execute_result"
    }
   ],
   "source": [
    "model[2].bias.shape, model[2].bias"
   ]
  },
  {
   "cell_type": "code",
   "execution_count": 143,
   "id": "5a28047e",
   "metadata": {},
   "outputs": [
    {
     "data": {
      "text/plain": [
       "(torch.Size([64, 784]), torch.Size([64]))"
      ]
     },
     "execution_count": 143,
     "metadata": {},
     "output_type": "execute_result"
    }
   ],
   "source": [
    "criterion = nn.NLLLoss()\n",
    "images, labels = next(iter(train_loader))\n",
    "# batch_size x channels x dim x dim\n",
    "images = images.view(images.shape[0], -1)\n",
    "\n",
    "images.shape, labels.shape"
   ]
  },
  {
   "cell_type": "code",
   "execution_count": 118,
   "id": "544fe1e9",
   "metadata": {},
   "outputs": [
    {
     "data": {
      "text/plain": [
       "torch.Size([64, 10])"
      ]
     },
     "execution_count": 118,
     "metadata": {},
     "output_type": "execute_result"
    }
   ],
   "source": [
    "logps = model(images) #log probabilities\n",
    "logps.shape"
   ]
  },
  {
   "cell_type": "code",
   "execution_count": 119,
   "id": "95b6209f",
   "metadata": {},
   "outputs": [
    {
     "data": {
      "text/plain": [
       "tensor(2.3007, grad_fn=<NllLossBackward0>)"
      ]
     },
     "execution_count": 119,
     "metadata": {},
     "output_type": "execute_result"
    }
   ],
   "source": [
    "loss = criterion(logps, labels) #calculate the NLL loss\n",
    "loss"
   ]
  },
  {
   "cell_type": "code",
   "execution_count": 120,
   "id": "268dd0da",
   "metadata": {},
   "outputs": [
    {
     "name": "stdout",
     "output_type": "stream",
     "text": [
      "Before backward pass: \n",
      " None\n",
      "After backward pass: \n",
      " tensor([[ 0.0006,  0.0006,  0.0006,  ...,  0.0006,  0.0006,  0.0006],\n",
      "        [ 0.0003,  0.0003,  0.0003,  ...,  0.0003,  0.0003,  0.0003],\n",
      "        [-0.0009, -0.0009, -0.0009,  ..., -0.0009, -0.0009, -0.0009],\n",
      "        ...,\n",
      "        [-0.0014, -0.0014, -0.0014,  ..., -0.0014, -0.0014, -0.0014],\n",
      "        [-0.0008, -0.0008, -0.0008,  ..., -0.0008, -0.0008, -0.0008],\n",
      "        [ 0.0002,  0.0002,  0.0002,  ...,  0.0002,  0.0002,  0.0002]])\n"
     ]
    }
   ],
   "source": [
    "print('Before backward pass: \\n', model[0].weight.grad)\n",
    "loss.backward()\n",
    "print('After backward pass: \\n', model[0].weight.grad)"
   ]
  },
  {
   "cell_type": "code",
   "execution_count": null,
   "id": "53836668",
   "metadata": {},
   "outputs": [],
   "source": [
    "# torch.gpu.is_available()\n",
    "# model.to('cuda')\n",
    "# images, labels = images.to('cuda'), labels.to('cuda')"
   ]
  },
  {
   "cell_type": "code",
   "execution_count": 144,
   "id": "2422aaa4",
   "metadata": {},
   "outputs": [
    {
     "name": "stdout",
     "output_type": "stream",
     "text": [
      "Epoch 0 - Training loss: 0.5154919199296025\n",
      "Epoch 1 - Training loss: 0.2054988747355399\n",
      "Epoch 2 - Training loss: 0.14778553632729408\n",
      "Epoch 3 - Training loss: 0.11601737978905916\n",
      "Epoch 4 - Training loss: 0.09441838643180012\n",
      "Epoch 5 - Training loss: 0.0790914207694929\n",
      "Epoch 6 - Training loss: 0.06807717417718283\n",
      "Epoch 7 - Training loss: 0.059096943833051065\n",
      "Epoch 8 - Training loss: 0.050694673800958136\n",
      "Epoch 9 - Training loss: 0.043909028580318935\n",
      "Epoch 10 - Training loss: 0.03800334566201308\n",
      "Epoch 11 - Training loss: 0.03446140822627818\n",
      "Epoch 12 - Training loss: 0.029503208312165262\n",
      "Epoch 13 - Training loss: 0.025902314787804543\n",
      "Epoch 14 - Training loss: 0.022385351754514487\n",
      "\n",
      "Training Time (in minutes) = 3.06924299399058\n"
     ]
    }
   ],
   "source": [
    "optimizer = optim.SGD(model.parameters(), lr=0.003, momentum=0.9)\n",
    "time0 = time()\n",
    "epochs = 15\n",
    "training_loss = []\n",
    "model.train()\n",
    "for e in range(epochs):\n",
    "    running_loss = 0\n",
    "    for images, labels in train_loader:\n",
    "        # Flatten MNIST images into a 784 long vector\n",
    "#         images batchsize, channels, [28, 28]\n",
    "        images = images.view(images.shape[0], -1)\n",
    "    \n",
    "        # Training pass\n",
    "        optimizer.zero_grad()\n",
    "        \n",
    "        output = model(images)\n",
    "        loss = criterion(output, labels)\n",
    "        \n",
    "        #This is where the model learns by backpropagating\n",
    "        loss.backward()\n",
    "        \n",
    "        #And optimizes its weights here\n",
    "        optimizer.step()\n",
    "        \n",
    "        running_loss += loss.item()\n",
    "    training_loss.append(running_loss)\n",
    "    print(\"Epoch {} - Training loss: {}\".format(e, running_loss/len(train_loader)))\n",
    "print(\"\\nTraining Time (in minutes) =\",(time()-time0)/60)"
   ]
  },
  {
   "cell_type": "code",
   "execution_count": 145,
   "id": "07d7274e",
   "metadata": {},
   "outputs": [
    {
     "data": {
      "image/png": "[encoded data removed]",
      "text/plain": [
       "<Figure size 640x480 with 1 Axes>"
      ]
     },
     "metadata": {},
     "output_type": "display_data"
    }
   ],
   "source": [
    "plt.plot(training_loss, '*')\n",
    "plt.xlabel('Iterations')\n",
    "plt.ylabel('Training Loss')\n",
    "plt.grid()"
   ]
  },
  {
   "cell_type": "code",
   "execution_count": 146,
   "id": "d75ae75c",
   "metadata": {},
   "outputs": [
    {
     "name": "stdout",
     "output_type": "stream",
     "text": [
      "Number Of Images Tested = 10000\n",
      "\n",
      "Model Accuracy = 0.9784\n"
     ]
    }
   ],
   "source": [
    "correct_count, all_count = 0, 0\n",
    "\n",
    "model.eval()\n",
    "for images,labels in test_loader:\n",
    "    for i in range(len(labels)):\n",
    "        img = images[i].view(1, 784)\n",
    "        with torch.no_grad():\n",
    "            logps = model(img)\n",
    "\n",
    "        ps = torch.exp(logps)\n",
    "        probab = list(ps.numpy()[0])\n",
    "        pred_label = probab.index(max(probab))\n",
    "        true_label = labels.numpy()[i]\n",
    "        if(true_label == pred_label):\n",
    "            correct_count += 1\n",
    "        all_count += 1\n",
    "\n",
    "print(\"Number Of Images Tested =\", all_count)\n",
    "print(\"\\nModel Accuracy =\", (correct_count/all_count))"
   ]
  },
  {
   "cell_type": "code",
   "execution_count": null,
   "id": "cc046764",
   "metadata": {},
   "outputs": [],
   "source": []
  },
  {
   "cell_type": "code",
   "execution_count": 123,
   "id": "8c6846bd",
   "metadata": {},
   "outputs": [],
   "source": [
    "def view_classify(img, ps):\n",
    "    ''' Function for viewing an image and it's predicted classes.\n",
    "    '''\n",
    "    ps = ps.data.numpy().squeeze()\n",
    "\n",
    "    fig, (ax1, ax2) = plt.subplots(figsize=(6,9), ncols=2)\n",
    "    ax1.imshow(img.resize_(1, 28, 28).numpy().squeeze(), cmap='gray')\n",
    "    ax1.axis('off')\n",
    "    ax2.barh(np.arange(10), ps)\n",
    "    ax2.set_aspect(0.1)\n",
    "    ax2.set_yticks(np.arange(10))\n",
    "    ax2.set_yticklabels(np.arange(10))\n",
    "    ax2.set_title('Class Probability')\n",
    "    ax2.set_xlim(0, 1.1)\n",
    "    plt.tight_layout()"
   ]
  },
  {
   "cell_type": "code",
   "execution_count": 126,
   "id": "30f86dcd",
   "metadata": {},
   "outputs": [
    {
     "data": {
      "text/plain": [
       "torch.Size([1000, 1, 28, 28])"
      ]
     },
     "execution_count": 126,
     "metadata": {},
     "output_type": "execute_result"
    }
   ],
   "source": [
    "images.shape"
   ]
  },
  {
   "cell_type": "code",
   "execution_count": null,
   "id": "9a22c11d",
   "metadata": {},
   "outputs": [],
   "source": [
    "# shape : images.view(-1, 784)"
   ]
  },
  {
   "cell_type": "code",
   "execution_count": 129,
   "id": "c9318dca",
   "metadata": {},
   "outputs": [
    {
     "data": {
      "text/plain": [
       "torch.Size([1, 28, 28])"
      ]
     },
     "execution_count": 129,
     "metadata": {},
     "output_type": "execute_result"
    }
   ],
   "source": [
    "images[2].shape"
   ]
  },
  {
   "cell_type": "code",
   "execution_count": 149,
   "id": "57d1ce86",
   "metadata": {},
   "outputs": [
    {
     "name": "stdout",
     "output_type": "stream",
     "text": [
      "Predicted Digit = 9\n"
     ]
    },
    {
     "data": {
      "image/png": "[encoded data removed]",
      "text/plain": [
       "<Figure size 600x900 with 2 Axes>"
      ]
     },
     "metadata": {},
     "output_type": "display_data"
    }
   ],
   "source": [
    "images, labels = next(iter(test_loader))\n",
    "\n",
    "img = images[7].view(1, 784)\n",
    "with torch.no_grad():\n",
    "    logps = model(img)\n",
    "\n",
    "ps = torch.exp(logps)\n",
    "probab = list(ps.numpy()[0])\n",
    "print(\"Predicted Digit =\", probab.index(max(probab)))\n",
    "view_classify(img.view(1, 28, 28), ps)"
   ]
  },
  {
   "cell_type": "code",
   "execution_count": null,
   "id": "1cb5f412",
   "metadata": {},
   "outputs": [],
   "source": []
  },
  {
   "cell_type": "code",
   "execution_count": 89,
   "id": "66aa64d4",
   "metadata": {},
   "outputs": [],
   "source": [
    "## custom dataset\n",
    "## data augmentation"
   ]
  },
  {
   "cell_type": "markdown",
   "id": "aa7e970b",
   "metadata": {},
   "source": [
    "# Convnet"
   ]
  },
  {
   "cell_type": "code",
   "execution_count": 87,
   "id": "c32d2722",
   "metadata": {},
   "outputs": [],
   "source": [
    "class Net(nn.Module):\n",
    "    def __init__(self):\n",
    "        super(Net, self).__init__()\n",
    "        self.conv1 = nn.Conv2d(1, 10, kernel_size=5)\n",
    "        self.conv2 = nn.Conv2d(10, 20, kernel_size=5)\n",
    "        self.conv2_drop = nn.Dropout2d()\n",
    "        self.fc1 = nn.Linear(320, 50)\n",
    "        self.fc2 = nn.Linear(50, 10)\n",
    "\n",
    "    def forward(self, x):\n",
    "        x = F.relu(F.max_pool2d(self.conv1(x), 2))\n",
    "        x = F.relu(F.max_pool2d(self.conv2_drop(self.conv2(x)), 2))\n",
    "        x = x.view(-1, 320)\n",
    "        x = F.relu(self.fc1(x))\n",
    "        x = F.dropout(x, training=self.training)\n",
    "        x = self.fc2(x)\n",
    "        return F.log_softmax(x)"
   ]
  },
  {
   "cell_type": "code",
   "execution_count": 88,
   "id": "81f0877e",
   "metadata": {},
   "outputs": [],
   "source": [
    "n_epochs = 3\n",
    "batch_size_train = 64\n",
    "batch_size_test = 1000\n",
    "learning_rate = 0.01\n",
    "momentum = 0.5\n",
    "log_interval = 10\n",
    "\n",
    "network = Net()\n",
    "optimizer = optim.SGD(network.parameters(), lr=learning_rate,\n",
    "                      momentum=momentum)"
   ]
  },
  {
   "cell_type": "code",
   "execution_count": null,
   "id": "492c6d2e",
   "metadata": {},
   "outputs": [],
   "source": []
  },
  {
   "cell_type": "code",
   "execution_count": 13,
   "id": "9c7b11b6",
   "metadata": {},
   "outputs": [],
   "source": [
    "# Training the Model"
   ]
  },
  {
   "cell_type": "code",
   "execution_count": 75,
   "id": "0203a1f9",
   "metadata": {},
   "outputs": [],
   "source": [
    "train_losses = []\n",
    "train_counter = []\n",
    "test_losses = []\n",
    "test_counter = [i*len(train_loader.dataset) for i in range(n_epochs + 1)]"
   ]
  },
  {
   "cell_type": "code",
   "execution_count": 76,
   "id": "ded40e69",
   "metadata": {},
   "outputs": [],
   "source": [
    "def train(epoch):\n",
    "    network.train()\n",
    "    for batch_idx, (data, target) in enumerate(train_loader):\n",
    "        optimizer.zero_grad()\n",
    "        output = network(data)\n",
    "        loss = F.nll_loss(output, target)\n",
    "        loss.backward()\n",
    "        optimizer.step()\n",
    "        if batch_idx % log_interval == 0:\n",
    "            print('Train Epoch: {} [{}/{} ({:.0f}%)]\\tLoss: {:.6f}'.format(\n",
    "            epoch, batch_idx * len(data), len(train_loader.dataset),\n",
    "            100. * batch_idx / len(train_loader), loss.item()))\n",
    "            train_losses.append(loss.item())\n",
    "            train_counter.append(\n",
    "            (batch_idx*64) + ((epoch-1)*len(train_loader.dataset)))\n",
    "            torch.save(network.state_dict(), 'model.pth')\n",
    "            torch.save(optimizer.state_dict(), 'optimizer.pth')"
   ]
  },
  {
   "cell_type": "code",
   "execution_count": 77,
   "id": "7a52f88a",
   "metadata": {},
   "outputs": [],
   "source": [
    "def test():\n",
    "    network.eval()\n",
    "    test_loss = 0\n",
    "    correct = 0\n",
    "    with torch.no_grad():\n",
    "        for data, target in test_loader:\n",
    "            output = network(data)\n",
    "            test_loss += F.nll_loss(output, target, size_average=False).item()\n",
    "            pred = output.data.max(1, keepdim=True)[1]\n",
    "            correct += pred.eq(target.data.view_as(pred)).sum()\n",
    "        test_loss /= len(test_loader.dataset)\n",
    "        test_losses.append(test_loss)\n",
    "        print('\\nTest set: Avg. loss: {:.4f}, Accuracy: {}/{} ({:.0f}%)\\n'.format(\n",
    "        test_loss, correct, len(test_loader.dataset),\n",
    "        100. * correct / len(test_loader.dataset)))"
   ]
  },
  {
   "cell_type": "code",
   "execution_count": null,
   "id": "fd757d8c",
   "metadata": {},
   "outputs": [],
   "source": []
  },
  {
   "cell_type": "code",
   "execution_count": null,
   "id": "7da178d9",
   "metadata": {},
   "outputs": [],
   "source": []
  },
  {
   "cell_type": "code",
   "execution_count": 78,
   "id": "8ce1a9bd",
   "metadata": {
    "scrolled": true
   },
   "outputs": [
    {
     "name": "stderr",
     "output_type": "stream",
     "text": [
      "C:\\Users\\kazim\\AppData\\Local\\Temp\\ipykernel_28920\\161431047.py:17: UserWarning: Implicit dimension choice for log_softmax has been deprecated. Change the call to include dim=X as an argument.\n",
      "  return F.log_softmax(x)\n"
     ]
    },
    {
     "name": "stdout",
     "output_type": "stream",
     "text": [
      "\n",
      "Test set: Avg. loss: 2.3127, Accuracy: 980/10000 (10%)\n",
      "\n",
      "Train Epoch: 1 [0/60000 (0%)]\tLoss: 2.302778\n",
      "Train Epoch: 1 [640/60000 (1%)]\tLoss: 2.321150\n",
      "Train Epoch: 1 [1280/60000 (2%)]\tLoss: 2.302725\n",
      "Train Epoch: 1 [1920/60000 (3%)]\tLoss: 2.298921\n",
      "Train Epoch: 1 [2560/60000 (4%)]\tLoss: 2.277651\n",
      "Train Epoch: 1 [3200/60000 (5%)]\tLoss: 2.242317\n",
      "Train Epoch: 1 [3840/60000 (6%)]\tLoss: 2.258919\n",
      "Train Epoch: 1 [4480/60000 (7%)]\tLoss: 2.305950\n",
      "Train Epoch: 1 [5120/60000 (9%)]\tLoss: 2.124266\n",
      "Train Epoch: 1 [5760/60000 (10%)]\tLoss: 2.106320\n",
      "Train Epoch: 1 [6400/60000 (11%)]\tLoss: 2.027337\n",
      "Train Epoch: 1 [7040/60000 (12%)]\tLoss: 1.926354\n",
      "Train Epoch: 1 [7680/60000 (13%)]\tLoss: 1.820624\n",
      "Train Epoch: 1 [8320/60000 (14%)]\tLoss: 1.774836\n",
      "Train Epoch: 1 [8960/60000 (15%)]\tLoss: 1.739427\n",
      "Train Epoch: 1 [9600/60000 (16%)]\tLoss: 1.560869\n",
      "Train Epoch: 1 [10240/60000 (17%)]\tLoss: 1.369069\n",
      "Train Epoch: 1 [10880/60000 (18%)]\tLoss: 1.412886\n",
      "Train Epoch: 1 [11520/60000 (19%)]\tLoss: 1.194768\n",
      "Train Epoch: 1 [12160/60000 (20%)]\tLoss: 1.117729\n",
      "Train Epoch: 1 [12800/60000 (21%)]\tLoss: 1.097306\n",
      "Train Epoch: 1 [13440/60000 (22%)]\tLoss: 1.063467\n",
      "Train Epoch: 1 [14080/60000 (23%)]\tLoss: 1.469586\n",
      "Train Epoch: 1 [14720/60000 (25%)]\tLoss: 1.159370\n",
      "Train Epoch: 1 [15360/60000 (26%)]\tLoss: 1.195086\n",
      "Train Epoch: 1 [16000/60000 (27%)]\tLoss: 0.934540\n",
      "Train Epoch: 1 [16640/60000 (28%)]\tLoss: 0.950500\n",
      "Train Epoch: 1 [17280/60000 (29%)]\tLoss: 0.917916\n",
      "Train Epoch: 1 [17920/60000 (30%)]\tLoss: 0.839544\n",
      "Train Epoch: 1 [18560/60000 (31%)]\tLoss: 0.853431\n",
      "Train Epoch: 1 [19200/60000 (32%)]\tLoss: 0.955429\n",
      "Train Epoch: 1 [19840/60000 (33%)]\tLoss: 0.957397\n",
      "Train Epoch: 1 [20480/60000 (34%)]\tLoss: 1.024588\n",
      "Train Epoch: 1 [21120/60000 (35%)]\tLoss: 0.974478\n",
      "Train Epoch: 1 [21760/60000 (36%)]\tLoss: 0.704530\n",
      "Train Epoch: 1 [22400/60000 (37%)]\tLoss: 0.758049\n",
      "Train Epoch: 1 [23040/60000 (38%)]\tLoss: 0.782128\n",
      "Train Epoch: 1 [23680/60000 (39%)]\tLoss: 0.963952\n",
      "Train Epoch: 1 [24320/60000 (41%)]\tLoss: 0.616991\n",
      "Train Epoch: 1 [24960/60000 (42%)]\tLoss: 1.160426\n",
      "Train Epoch: 1 [25600/60000 (43%)]\tLoss: 0.533440\n",
      "Train Epoch: 1 [26240/60000 (44%)]\tLoss: 1.007026\n",
      "Train Epoch: 1 [26880/60000 (45%)]\tLoss: 0.698808\n",
      "Train Epoch: 1 [27520/60000 (46%)]\tLoss: 0.758332\n",
      "Train Epoch: 1 [28160/60000 (47%)]\tLoss: 0.583668\n",
      "Train Epoch: 1 [28800/60000 (48%)]\tLoss: 0.618889\n",
      "Train Epoch: 1 [29440/60000 (49%)]\tLoss: 0.801680\n",
      "Train Epoch: 1 [30080/60000 (50%)]\tLoss: 0.840724\n",
      "Train Epoch: 1 [30720/60000 (51%)]\tLoss: 0.571679\n",
      "Train Epoch: 1 [31360/60000 (52%)]\tLoss: 0.639262\n",
      "Train Epoch: 1 [32000/60000 (53%)]\tLoss: 0.665107\n",
      "Train Epoch: 1 [32640/60000 (54%)]\tLoss: 0.584687\n",
      "Train Epoch: 1 [33280/60000 (55%)]\tLoss: 0.659857\n",
      "Train Epoch: 1 [33920/60000 (57%)]\tLoss: 0.674108\n",
      "Train Epoch: 1 [34560/60000 (58%)]\tLoss: 0.702225\n",
      "Train Epoch: 1 [35200/60000 (59%)]\tLoss: 0.450648\n",
      "Train Epoch: 1 [35840/60000 (60%)]\tLoss: 0.657610\n",
      "Train Epoch: 1 [36480/60000 (61%)]\tLoss: 0.614470\n",
      "Train Epoch: 1 [37120/60000 (62%)]\tLoss: 0.510162\n",
      "Train Epoch: 1 [37760/60000 (63%)]\tLoss: 0.595319\n",
      "Train Epoch: 1 [38400/60000 (64%)]\tLoss: 0.559385\n",
      "Train Epoch: 1 [39040/60000 (65%)]\tLoss: 0.753161\n",
      "Train Epoch: 1 [39680/60000 (66%)]\tLoss: 0.452244\n",
      "Train Epoch: 1 [40320/60000 (67%)]\tLoss: 0.468211\n",
      "Train Epoch: 1 [40960/60000 (68%)]\tLoss: 0.508668\n",
      "Train Epoch: 1 [41600/60000 (69%)]\tLoss: 0.308543\n",
      "Train Epoch: 1 [42240/60000 (70%)]\tLoss: 0.680127\n",
      "Train Epoch: 1 [42880/60000 (71%)]\tLoss: 0.749461\n",
      "Train Epoch: 1 [43520/60000 (72%)]\tLoss: 0.594199\n",
      "Train Epoch: 1 [44160/60000 (74%)]\tLoss: 0.374972\n",
      "Train Epoch: 1 [44800/60000 (75%)]\tLoss: 0.466311\n",
      "Train Epoch: 1 [45440/60000 (76%)]\tLoss: 0.706831\n",
      "Train Epoch: 1 [46080/60000 (77%)]\tLoss: 0.524438\n",
      "Train Epoch: 1 [46720/60000 (78%)]\tLoss: 0.388719\n",
      "Train Epoch: 1 [47360/60000 (79%)]\tLoss: 0.333154\n",
      "Train Epoch: 1 [48000/60000 (80%)]\tLoss: 0.666042\n",
      "Train Epoch: 1 [48640/60000 (81%)]\tLoss: 0.663821\n",
      "Train Epoch: 1 [49280/60000 (82%)]\tLoss: 0.713357\n",
      "Train Epoch: 1 [49920/60000 (83%)]\tLoss: 0.517306\n",
      "Train Epoch: 1 [50560/60000 (84%)]\tLoss: 0.719239\n",
      "Train Epoch: 1 [51200/60000 (85%)]\tLoss: 0.542786\n",
      "Train Epoch: 1 [51840/60000 (86%)]\tLoss: 0.455963\n",
      "Train Epoch: 1 [52480/60000 (87%)]\tLoss: 0.343868\n",
      "Train Epoch: 1 [53120/60000 (88%)]\tLoss: 0.474958\n",
      "Train Epoch: 1 [53760/60000 (90%)]\tLoss: 0.801444\n",
      "Train Epoch: 1 [54400/60000 (91%)]\tLoss: 0.381534\n",
      "Train Epoch: 1 [55040/60000 (92%)]\tLoss: 0.320154\n",
      "Train Epoch: 1 [55680/60000 (93%)]\tLoss: 0.503567\n",
      "Train Epoch: 1 [56320/60000 (94%)]\tLoss: 0.557306\n",
      "Train Epoch: 1 [56960/60000 (95%)]\tLoss: 0.338065\n",
      "Train Epoch: 1 [57600/60000 (96%)]\tLoss: 0.515277\n",
      "Train Epoch: 1 [58240/60000 (97%)]\tLoss: 0.605909\n",
      "Train Epoch: 1 [58880/60000 (98%)]\tLoss: 0.648301\n",
      "Train Epoch: 1 [59520/60000 (99%)]\tLoss: 0.247494\n",
      "\n",
      "Test set: Avg. loss: 0.2177, Accuracy: 9371/10000 (94%)\n",
      "\n",
      "Train Epoch: 2 [0/60000 (0%)]\tLoss: 0.382702\n",
      "Train Epoch: 2 [640/60000 (1%)]\tLoss: 0.454169\n",
      "Train Epoch: 2 [1280/60000 (2%)]\tLoss: 0.612432\n",
      "Train Epoch: 2 [1920/60000 (3%)]\tLoss: 0.663478\n",
      "Train Epoch: 2 [2560/60000 (4%)]\tLoss: 0.437240\n",
      "Train Epoch: 2 [3200/60000 (5%)]\tLoss: 0.434799\n",
      "Train Epoch: 2 [3840/60000 (6%)]\tLoss: 0.376936\n",
      "Train Epoch: 2 [4480/60000 (7%)]\tLoss: 0.299841\n",
      "Train Epoch: 2 [5120/60000 (9%)]\tLoss: 0.610862\n",
      "Train Epoch: 2 [5760/60000 (10%)]\tLoss: 0.479965\n",
      "Train Epoch: 2 [6400/60000 (11%)]\tLoss: 0.728534\n",
      "Train Epoch: 2 [7040/60000 (12%)]\tLoss: 0.412754\n",
      "Train Epoch: 2 [7680/60000 (13%)]\tLoss: 0.444721\n",
      "Train Epoch: 2 [8320/60000 (14%)]\tLoss: 0.399610\n",
      "Train Epoch: 2 [8960/60000 (15%)]\tLoss: 0.605577\n",
      "Train Epoch: 2 [9600/60000 (16%)]\tLoss: 0.582031\n",
      "Train Epoch: 2 [10240/60000 (17%)]\tLoss: 0.518115\n",
      "Train Epoch: 2 [10880/60000 (18%)]\tLoss: 0.292930\n",
      "Train Epoch: 2 [11520/60000 (19%)]\tLoss: 0.390066\n",
      "Train Epoch: 2 [12160/60000 (20%)]\tLoss: 0.373425\n",
      "Train Epoch: 2 [12800/60000 (21%)]\tLoss: 0.406263\n",
      "Train Epoch: 2 [13440/60000 (22%)]\tLoss: 0.553242\n",
      "Train Epoch: 2 [14080/60000 (23%)]\tLoss: 0.310373\n",
      "Train Epoch: 2 [14720/60000 (25%)]\tLoss: 0.457073\n",
      "Train Epoch: 2 [15360/60000 (26%)]\tLoss: 0.366198\n",
      "Train Epoch: 2 [16000/60000 (27%)]\tLoss: 0.513846\n",
      "Train Epoch: 2 [16640/60000 (28%)]\tLoss: 0.306738\n",
      "Train Epoch: 2 [17280/60000 (29%)]\tLoss: 0.401562\n",
      "Train Epoch: 2 [17920/60000 (30%)]\tLoss: 0.481106\n",
      "Train Epoch: 2 [18560/60000 (31%)]\tLoss: 0.602132\n",
      "Train Epoch: 2 [19200/60000 (32%)]\tLoss: 0.317042\n",
      "Train Epoch: 2 [19840/60000 (33%)]\tLoss: 0.488716\n",
      "Train Epoch: 2 [20480/60000 (34%)]\tLoss: 0.420041\n",
      "Train Epoch: 2 [21120/60000 (35%)]\tLoss: 0.406276\n",
      "Train Epoch: 2 [21760/60000 (36%)]\tLoss: 0.368188\n",
      "Train Epoch: 2 [22400/60000 (37%)]\tLoss: 0.456214\n",
      "Train Epoch: 2 [23040/60000 (38%)]\tLoss: 0.525641\n",
      "Train Epoch: 2 [23680/60000 (39%)]\tLoss: 0.502707\n",
      "Train Epoch: 2 [24320/60000 (41%)]\tLoss: 0.396349\n",
      "Train Epoch: 2 [24960/60000 (42%)]\tLoss: 0.369191\n",
      "Train Epoch: 2 [25600/60000 (43%)]\tLoss: 0.331578\n",
      "Train Epoch: 2 [26240/60000 (44%)]\tLoss: 0.292685\n",
      "Train Epoch: 2 [26880/60000 (45%)]\tLoss: 0.311869\n",
      "Train Epoch: 2 [27520/60000 (46%)]\tLoss: 0.307882\n",
      "Train Epoch: 2 [28160/60000 (47%)]\tLoss: 0.290091\n",
      "Train Epoch: 2 [28800/60000 (48%)]\tLoss: 0.197963\n",
      "Train Epoch: 2 [29440/60000 (49%)]\tLoss: 0.589915\n",
      "Train Epoch: 2 [30080/60000 (50%)]\tLoss: 0.369075\n",
      "Train Epoch: 2 [30720/60000 (51%)]\tLoss: 0.374847\n",
      "Train Epoch: 2 [31360/60000 (52%)]\tLoss: 0.322767\n",
      "Train Epoch: 2 [32000/60000 (53%)]\tLoss: 0.516085\n",
      "Train Epoch: 2 [32640/60000 (54%)]\tLoss: 0.358336\n",
      "Train Epoch: 2 [33280/60000 (55%)]\tLoss: 0.393061\n",
      "Train Epoch: 2 [33920/60000 (57%)]\tLoss: 0.403926\n",
      "Train Epoch: 2 [34560/60000 (58%)]\tLoss: 0.400166\n",
      "Train Epoch: 2 [35200/60000 (59%)]\tLoss: 0.363410\n",
      "Train Epoch: 2 [35840/60000 (60%)]\tLoss: 0.237244\n",
      "Train Epoch: 2 [36480/60000 (61%)]\tLoss: 0.272463\n",
      "Train Epoch: 2 [37120/60000 (62%)]\tLoss: 0.285008\n",
      "Train Epoch: 2 [37760/60000 (63%)]\tLoss: 0.484903\n",
      "Train Epoch: 2 [38400/60000 (64%)]\tLoss: 0.254991\n",
      "Train Epoch: 2 [39040/60000 (65%)]\tLoss: 0.196708\n",
      "Train Epoch: 2 [39680/60000 (66%)]\tLoss: 0.485555\n",
      "Train Epoch: 2 [40320/60000 (67%)]\tLoss: 0.275689\n",
      "Train Epoch: 2 [40960/60000 (68%)]\tLoss: 0.242124\n",
      "Train Epoch: 2 [41600/60000 (69%)]\tLoss: 0.382298\n",
      "Train Epoch: 2 [42240/60000 (70%)]\tLoss: 0.227183\n",
      "Train Epoch: 2 [42880/60000 (71%)]\tLoss: 0.189721\n",
      "Train Epoch: 2 [43520/60000 (72%)]\tLoss: 0.316991\n",
      "Train Epoch: 2 [44160/60000 (74%)]\tLoss: 0.360407\n"
     ]
    },
    {
     "name": "stdout",
     "output_type": "stream",
     "text": [
      "Train Epoch: 2 [44800/60000 (75%)]\tLoss: 0.437733\n",
      "Train Epoch: 2 [45440/60000 (76%)]\tLoss: 0.469155\n",
      "Train Epoch: 2 [46080/60000 (77%)]\tLoss: 0.372118\n",
      "Train Epoch: 2 [46720/60000 (78%)]\tLoss: 0.329229\n",
      "Train Epoch: 2 [47360/60000 (79%)]\tLoss: 0.413716\n",
      "Train Epoch: 2 [48000/60000 (80%)]\tLoss: 0.215650\n",
      "Train Epoch: 2 [48640/60000 (81%)]\tLoss: 0.296962\n",
      "Train Epoch: 2 [49280/60000 (82%)]\tLoss: 0.362621\n",
      "Train Epoch: 2 [49920/60000 (83%)]\tLoss: 0.283856\n",
      "Train Epoch: 2 [50560/60000 (84%)]\tLoss: 0.360456\n",
      "Train Epoch: 2 [51200/60000 (85%)]\tLoss: 0.432423\n",
      "Train Epoch: 2 [51840/60000 (86%)]\tLoss: 0.657077\n",
      "Train Epoch: 2 [52480/60000 (87%)]\tLoss: 0.444579\n",
      "Train Epoch: 2 [53120/60000 (88%)]\tLoss: 0.270065\n",
      "Train Epoch: 2 [53760/60000 (90%)]\tLoss: 0.422876\n",
      "Train Epoch: 2 [54400/60000 (91%)]\tLoss: 0.214693\n",
      "Train Epoch: 2 [55040/60000 (92%)]\tLoss: 0.452298\n",
      "Train Epoch: 2 [55680/60000 (93%)]\tLoss: 0.392370\n",
      "Train Epoch: 2 [56320/60000 (94%)]\tLoss: 0.335783\n",
      "Train Epoch: 2 [56960/60000 (95%)]\tLoss: 0.331494\n",
      "Train Epoch: 2 [57600/60000 (96%)]\tLoss: 0.335076\n",
      "Train Epoch: 2 [58240/60000 (97%)]\tLoss: 0.343922\n",
      "Train Epoch: 2 [58880/60000 (98%)]\tLoss: 0.340894\n",
      "Train Epoch: 2 [59520/60000 (99%)]\tLoss: 0.297709\n",
      "\n",
      "Test set: Avg. loss: 0.1216, Accuracy: 9646/10000 (96%)\n",
      "\n",
      "Train Epoch: 3 [0/60000 (0%)]\tLoss: 0.183023\n",
      "Train Epoch: 3 [640/60000 (1%)]\tLoss: 0.300206\n",
      "Train Epoch: 3 [1280/60000 (2%)]\tLoss: 0.305311\n",
      "Train Epoch: 3 [1920/60000 (3%)]\tLoss: 0.559807\n",
      "Train Epoch: 3 [2560/60000 (4%)]\tLoss: 0.261725\n",
      "Train Epoch: 3 [3200/60000 (5%)]\tLoss: 0.222423\n",
      "Train Epoch: 3 [3840/60000 (6%)]\tLoss: 0.290959\n",
      "Train Epoch: 3 [4480/60000 (7%)]\tLoss: 0.398999\n",
      "Train Epoch: 3 [5120/60000 (9%)]\tLoss: 0.264446\n",
      "Train Epoch: 3 [5760/60000 (10%)]\tLoss: 0.463923\n",
      "Train Epoch: 3 [6400/60000 (11%)]\tLoss: 0.169613\n",
      "Train Epoch: 3 [7040/60000 (12%)]\tLoss: 0.323262\n",
      "Train Epoch: 3 [7680/60000 (13%)]\tLoss: 0.418992\n",
      "Train Epoch: 3 [8320/60000 (14%)]\tLoss: 0.458649\n",
      "Train Epoch: 3 [8960/60000 (15%)]\tLoss: 0.433857\n",
      "Train Epoch: 3 [9600/60000 (16%)]\tLoss: 0.334957\n",
      "Train Epoch: 3 [10240/60000 (17%)]\tLoss: 0.218627\n",
      "Train Epoch: 3 [10880/60000 (18%)]\tLoss: 0.212396\n",
      "Train Epoch: 3 [11520/60000 (19%)]\tLoss: 0.222511\n",
      "Train Epoch: 3 [12160/60000 (20%)]\tLoss: 0.296166\n",
      "Train Epoch: 3 [12800/60000 (21%)]\tLoss: 0.309128\n",
      "Train Epoch: 3 [13440/60000 (22%)]\tLoss: 0.255542\n",
      "Train Epoch: 3 [14080/60000 (23%)]\tLoss: 0.259142\n",
      "Train Epoch: 3 [14720/60000 (25%)]\tLoss: 0.306832\n",
      "Train Epoch: 3 [15360/60000 (26%)]\tLoss: 0.372138\n",
      "Train Epoch: 3 [16000/60000 (27%)]\tLoss: 0.327575\n",
      "Train Epoch: 3 [16640/60000 (28%)]\tLoss: 0.301175\n",
      "Train Epoch: 3 [17280/60000 (29%)]\tLoss: 0.225074\n",
      "Train Epoch: 3 [17920/60000 (30%)]\tLoss: 0.358704\n",
      "Train Epoch: 3 [18560/60000 (31%)]\tLoss: 0.316126\n",
      "Train Epoch: 3 [19200/60000 (32%)]\tLoss: 0.347651\n",
      "Train Epoch: 3 [19840/60000 (33%)]\tLoss: 0.324839\n",
      "Train Epoch: 3 [20480/60000 (34%)]\tLoss: 0.334616\n",
      "Train Epoch: 3 [21120/60000 (35%)]\tLoss: 0.242824\n",
      "Train Epoch: 3 [21760/60000 (36%)]\tLoss: 0.394557\n",
      "Train Epoch: 3 [22400/60000 (37%)]\tLoss: 0.375617\n",
      "Train Epoch: 3 [23040/60000 (38%)]\tLoss: 0.337103\n",
      "Train Epoch: 3 [23680/60000 (39%)]\tLoss: 0.233552\n",
      "Train Epoch: 3 [24320/60000 (41%)]\tLoss: 0.322440\n",
      "Train Epoch: 3 [24960/60000 (42%)]\tLoss: 0.246395\n",
      "Train Epoch: 3 [25600/60000 (43%)]\tLoss: 0.243058\n",
      "Train Epoch: 3 [26240/60000 (44%)]\tLoss: 0.297303\n",
      "Train Epoch: 3 [26880/60000 (45%)]\tLoss: 0.210359\n",
      "Train Epoch: 3 [27520/60000 (46%)]\tLoss: 0.391549\n",
      "Train Epoch: 3 [28160/60000 (47%)]\tLoss: 0.619527\n",
      "Train Epoch: 3 [28800/60000 (48%)]\tLoss: 0.430846\n",
      "Train Epoch: 3 [29440/60000 (49%)]\tLoss: 0.282335\n",
      "Train Epoch: 3 [30080/60000 (50%)]\tLoss: 0.297234\n",
      "Train Epoch: 3 [30720/60000 (51%)]\tLoss: 0.441767\n",
      "Train Epoch: 3 [31360/60000 (52%)]\tLoss: 0.202018\n",
      "Train Epoch: 3 [32000/60000 (53%)]\tLoss: 0.277917\n",
      "Train Epoch: 3 [32640/60000 (54%)]\tLoss: 0.111913\n",
      "Train Epoch: 3 [33280/60000 (55%)]\tLoss: 0.294513\n",
      "Train Epoch: 3 [33920/60000 (57%)]\tLoss: 0.270241\n",
      "Train Epoch: 3 [34560/60000 (58%)]\tLoss: 0.240967\n",
      "Train Epoch: 3 [35200/60000 (59%)]\tLoss: 0.304087\n",
      "Train Epoch: 3 [35840/60000 (60%)]\tLoss: 0.130154\n",
      "Train Epoch: 3 [36480/60000 (61%)]\tLoss: 0.266079\n",
      "Train Epoch: 3 [37120/60000 (62%)]\tLoss: 0.398398\n",
      "Train Epoch: 3 [37760/60000 (63%)]\tLoss: 0.291573\n",
      "Train Epoch: 3 [38400/60000 (64%)]\tLoss: 0.336984\n",
      "Train Epoch: 3 [39040/60000 (65%)]\tLoss: 0.490374\n",
      "Train Epoch: 3 [39680/60000 (66%)]\tLoss: 0.280187\n",
      "Train Epoch: 3 [40320/60000 (67%)]\tLoss: 0.212607\n",
      "Train Epoch: 3 [40960/60000 (68%)]\tLoss: 0.363542\n",
      "Train Epoch: 3 [41600/60000 (69%)]\tLoss: 0.458644\n",
      "Train Epoch: 3 [42240/60000 (70%)]\tLoss: 0.275208\n",
      "Train Epoch: 3 [42880/60000 (71%)]\tLoss: 0.269866\n",
      "Train Epoch: 3 [43520/60000 (72%)]\tLoss: 0.315110\n",
      "Train Epoch: 3 [44160/60000 (74%)]\tLoss: 0.103879\n",
      "Train Epoch: 3 [44800/60000 (75%)]\tLoss: 0.270690\n",
      "Train Epoch: 3 [45440/60000 (76%)]\tLoss: 0.466034\n",
      "Train Epoch: 3 [46080/60000 (77%)]\tLoss: 0.511866\n",
      "Train Epoch: 3 [46720/60000 (78%)]\tLoss: 0.489988\n",
      "Train Epoch: 3 [47360/60000 (79%)]\tLoss: 0.286741\n",
      "Train Epoch: 3 [48000/60000 (80%)]\tLoss: 0.237851\n",
      "Train Epoch: 3 [48640/60000 (81%)]\tLoss: 0.209326\n",
      "Train Epoch: 3 [49280/60000 (82%)]\tLoss: 0.131457\n",
      "Train Epoch: 3 [49920/60000 (83%)]\tLoss: 0.318235\n",
      "Train Epoch: 3 [50560/60000 (84%)]\tLoss: 0.245665\n",
      "Train Epoch: 3 [51200/60000 (85%)]\tLoss: 0.269106\n",
      "Train Epoch: 3 [51840/60000 (86%)]\tLoss: 0.243313\n",
      "Train Epoch: 3 [52480/60000 (87%)]\tLoss: 0.299364\n",
      "Train Epoch: 3 [53120/60000 (88%)]\tLoss: 0.385672\n",
      "Train Epoch: 3 [53760/60000 (90%)]\tLoss: 0.213449\n",
      "Train Epoch: 3 [54400/60000 (91%)]\tLoss: 0.487767\n",
      "Train Epoch: 3 [55040/60000 (92%)]\tLoss: 0.167898\n",
      "Train Epoch: 3 [55680/60000 (93%)]\tLoss: 0.273551\n",
      "Train Epoch: 3 [56320/60000 (94%)]\tLoss: 0.354851\n",
      "Train Epoch: 3 [56960/60000 (95%)]\tLoss: 0.233958\n",
      "Train Epoch: 3 [57600/60000 (96%)]\tLoss: 0.257378\n",
      "Train Epoch: 3 [58240/60000 (97%)]\tLoss: 0.333203\n",
      "Train Epoch: 3 [58880/60000 (98%)]\tLoss: 0.212090\n",
      "Train Epoch: 3 [59520/60000 (99%)]\tLoss: 0.413840\n",
      "\n",
      "Test set: Avg. loss: 0.0906, Accuracy: 9731/10000 (97%)\n",
      "\n"
     ]
    }
   ],
   "source": [
    "test()\n",
    "for epoch in range(1, n_epochs + 1):\n",
    "    train(epoch)\n",
    "    test()"
   ]
  },
  {
   "cell_type": "code",
   "execution_count": null,
   "id": "e045d50f",
   "metadata": {},
   "outputs": [],
   "source": []
  },
  {
   "cell_type": "code",
   "execution_count": 81,
   "id": "ca9ddc5e",
   "metadata": {},
   "outputs": [
    {
     "data": {
      "text/plain": [
       "(282, 4)"
      ]
     },
     "execution_count": 81,
     "metadata": {},
     "output_type": "execute_result"
    }
   ],
   "source": [
    "len(train_losses), len(test_losses)"
   ]
  },
  {
   "cell_type": "code",
   "execution_count": 84,
   "id": "5ec675c6",
   "metadata": {},
   "outputs": [
    {
     "data": {
      "image/png": "[encoded data removed]",
      "text/plain": [
       "<Figure size 640x480 with 1 Axes>"
      ]
     },
     "metadata": {},
     "output_type": "display_data"
    }
   ],
   "source": [
    "plt.plot(train_losses, '--')\n",
    "plt.ylabel('Training Loss')\n",
    "plt.xlabel('Epochs');"
   ]
  }
 ],
 "metadata": {
  "kernelspec": {
   "display_name": "Python [conda env:aipnd_sl_env] *",
   "language": "python",
   "name": "conda-env-aipnd_sl_env-py"
  },
  "language_info": {
   "codemirror_mode": {
    "name": "ipython",
    "version": 3
   },
   "file_extension": ".py",
   "mimetype": "text/x-python",
   "name": "python",
   "nbconvert_exporter": "python",
   "pygments_lexer": "ipython3",
   "version": "3.10.8"
  }
 },
 "nbformat": 4,
 "nbformat_minor": 5
}
