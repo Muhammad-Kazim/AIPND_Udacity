{
 "cells": [
  {
   "cell_type": "code",
   "execution_count": null,
   "id": "9349cc00",
   "metadata": {},
   "outputs": [],
   "source": [
    "# Progress check\n",
    "# Review week 2\n",
    "# Excercise maybe?\n",
    "# Problems in project"
   ]
  },
  {
   "cell_type": "code",
   "execution_count": null,
   "id": "2b906c0f",
   "metadata": {},
   "outputs": [],
   "source": []
  },
  {
   "cell_type": "code",
   "execution_count": null,
   "id": "c3a47fad",
   "metadata": {},
   "outputs": [],
   "source": []
  },
  {
   "cell_type": "code",
   "execution_count": null,
   "id": "4de7d757",
   "metadata": {},
   "outputs": [],
   "source": []
  },
  {
   "cell_type": "code",
   "execution_count": null,
   "id": "aad8d7fe",
   "metadata": {},
   "outputs": [],
   "source": []
  },
  {
   "cell_type": "markdown",
   "id": "a75f0e38",
   "metadata": {},
   "source": [
    "## Conditional Statements"
   ]
  },
  {
   "cell_type": "code",
   "execution_count": 4,
   "id": "063954d5",
   "metadata": {},
   "outputs": [
    {
     "name": "stdout",
     "output_type": "stream",
     "text": [
      "Variable is greater than 5\n"
     ]
    }
   ],
   "source": [
    "'''\n",
    "if <expr>:\n",
    "    <statement>\n",
    "'''\n",
    "\n",
    "var = 7\n",
    "\n",
    "if var > 5:\n",
    "    print(f'Variable is greater than 5')"
   ]
  },
  {
   "cell_type": "code",
   "execution_count": 3,
   "id": "125bbbfb",
   "metadata": {},
   "outputs": [
    {
     "data": {
      "text/plain": [
       "True"
      ]
     },
     "execution_count": 3,
     "metadata": {},
     "output_type": "execute_result"
    }
   ],
   "source": [
    "var < 5"
   ]
  },
  {
   "cell_type": "code",
   "execution_count": 5,
   "id": "19e1f174",
   "metadata": {},
   "outputs": [
    {
     "name": "stdout",
     "output_type": "stream",
     "text": [
      "Hello Joe\n"
     ]
    }
   ],
   "source": [
    "# https://realpython.com/python-conditional-statements/\n",
    "\n",
    "name = 'Joe'\n",
    "\n",
    "if name == 'Fred':\n",
    "    print('Hello Fred')\n",
    "    \n",
    "elif name == 'Xander':\n",
    "    print('Hello Xander')\n",
    "    \n",
    "elif name == 'Joe':\n",
    "    print('Hello Joe')\n",
    "    \n",
    "else:\n",
    "    print(\"I don't know who you are!\")"
   ]
  },
  {
   "cell_type": "code",
   "execution_count": 7,
   "id": "982194c1",
   "metadata": {},
   "outputs": [
    {
     "name": "stdout",
     "output_type": "stream",
     "text": [
      "True\n"
     ]
    }
   ],
   "source": [
    "if True:\n",
    "    print('True')"
   ]
  },
  {
   "cell_type": "code",
   "execution_count": null,
   "id": "da637921",
   "metadata": {},
   "outputs": [],
   "source": []
  },
  {
   "cell_type": "markdown",
   "id": "d9576886",
   "metadata": {},
   "source": [
    "## For Loops"
   ]
  },
  {
   "cell_type": "code",
   "execution_count": 8,
   "id": "2155faac",
   "metadata": {},
   "outputs": [
    {
     "name": "stdout",
     "output_type": "stream",
     "text": [
      "1\n",
      "2\n",
      "3\n",
      "4\n",
      "5\n"
     ]
    }
   ],
   "source": [
    "# https://www.programiz.com/python-programming/for-loop\n",
    "\n",
    "# Program to find the sum of all numbers stored in a list\n",
    "\n",
    "# List of numbers\n",
    "numbers = [1, 2, 3, 4, 5]\n",
    "\n",
    "# iterate over the list\n",
    "for num in numbers:\n",
    "    print(num)"
   ]
  },
  {
   "cell_type": "code",
   "execution_count": 15,
   "id": "b3eab657",
   "metadata": {},
   "outputs": [
    {
     "name": "stdout",
     "output_type": "stream",
     "text": [
      "15\n",
      "odd\n",
      "sixth\n"
     ]
    }
   ],
   "source": [
    "numbers = [5, 15, 3, 'odd', 'even', 'sixth']\n",
    "\n",
    "for i in range(1, 6, 2):\n",
    "    print(numbers[i])"
   ]
  },
  {
   "cell_type": "code",
   "execution_count": 19,
   "id": "b6c7b882",
   "metadata": {},
   "outputs": [
    {
     "name": "stdout",
     "output_type": "stream",
     "text": [
      "ODD\n",
      "EVEN\n",
      "SIXTH\n"
     ]
    }
   ],
   "source": [
    "numbers = ['odd', 'even', 'sixth']\n",
    "\n",
    "for num in numbers:\n",
    "    print(str(num).upper())"
   ]
  },
  {
   "cell_type": "code",
   "execution_count": 9,
   "id": "1d695e21",
   "metadata": {},
   "outputs": [
    {
     "data": {
      "text/plain": [
       "range(0, 5)"
      ]
     },
     "execution_count": 9,
     "metadata": {},
     "output_type": "execute_result"
    }
   ],
   "source": [
    "# iterables -> range function\n",
    "# range(start, stop, step)\n",
    "range(5)"
   ]
  },
  {
   "cell_type": "code",
   "execution_count": null,
   "id": "57635a0f",
   "metadata": {},
   "outputs": [],
   "source": [
    "for i in range(5):\n",
    "    print(i)"
   ]
  },
  {
   "cell_type": "code",
   "execution_count": 22,
   "id": "b286c6ba",
   "metadata": {},
   "outputs": [
    {
     "data": {
      "text/plain": [
       "dict_keys(['Bread', 'Milk', 'Eggs', 'Water'])"
      ]
     },
     "execution_count": 22,
     "metadata": {},
     "output_type": "execute_result"
    }
   ],
   "source": [
    "cost_dict.keys()"
   ]
  },
  {
   "cell_type": "code",
   "execution_count": 23,
   "id": "2ec0ea71",
   "metadata": {},
   "outputs": [
    {
     "name": "stdout",
     "output_type": "stream",
     "text": [
      "2420\n",
      "2420\n"
     ]
    }
   ],
   "source": [
    "# calculate total\n",
    "\n",
    "cost_dict = {\n",
    "    'Bread': 250,\n",
    "    'Milk': 310,\n",
    "    'Eggs': 150,\n",
    "    'Water': 280\n",
    "}\n",
    "\n",
    "total = 0\n",
    "quant = [1, 2, 1, 5]\n",
    "\n",
    "counter = 0\n",
    "total = 0\n",
    "\n",
    "for item in cost_dict.keys():\n",
    "    # line of code\n",
    "    total += cost_dict[item] * quant[counter]\n",
    "    counter += 1\n",
    "    \n",
    "print(total)\n",
    "print(250*1 + 310*2 + 150*1 + 280*5)"
   ]
  },
  {
   "cell_type": "code",
   "execution_count": null,
   "id": "bc7b59e1",
   "metadata": {},
   "outputs": [],
   "source": [
    "# enumerate"
   ]
  },
  {
   "cell_type": "code",
   "execution_count": null,
   "id": "972438ab",
   "metadata": {},
   "outputs": [],
   "source": []
  },
  {
   "cell_type": "code",
   "execution_count": null,
   "id": "ff1cba25",
   "metadata": {},
   "outputs": [],
   "source": []
  },
  {
   "cell_type": "code",
   "execution_count": null,
   "id": "483a2d8b",
   "metadata": {},
   "outputs": [],
   "source": []
  },
  {
   "cell_type": "code",
   "execution_count": 24,
   "id": "1e8b42ff",
   "metadata": {},
   "outputs": [
    {
     "name": "stdout",
     "output_type": "stream",
     "text": [
      "0 Abid\n",
      "1 Abdur\n",
      "2 Rahman\n"
     ]
    }
   ],
   "source": [
    "names = ['Abid', 'Abdur', 'Rahman']\n",
    "\n",
    "for counter, name in enumerate(names):\n",
    "    print(counter, name)"
   ]
  },
  {
   "cell_type": "code",
   "execution_count": null,
   "id": "f787ab77",
   "metadata": {},
   "outputs": [],
   "source": [
    "## improve using enumerate\n",
    "total += cost_dict.get(item, 0)*quant[counter]\n",
    "    total += cost_dict[item]*quant[counter]"
   ]
  },
  {
   "cell_type": "code",
   "execution_count": 25,
   "id": "f36c88c8",
   "metadata": {},
   "outputs": [
    {
     "data": {
      "text/plain": [
       "2420"
      ]
     },
     "execution_count": 25,
     "metadata": {},
     "output_type": "execute_result"
    }
   ],
   "source": [
    "total = 0\n",
    "\n",
    "for counter, item in enumerate(cost_dict.keys()):\n",
    "    # line of code\n",
    "    total += cost_dict[item]*quant[counter]\n",
    "    \n",
    "total"
   ]
  },
  {
   "cell_type": "code",
   "execution_count": null,
   "id": "fc7513b5",
   "metadata": {},
   "outputs": [],
   "source": [
    "## improve using zip"
   ]
  },
  {
   "cell_type": "code",
   "execution_count": 27,
   "id": "f03d8b0e",
   "metadata": {},
   "outputs": [
    {
     "name": "stdout",
     "output_type": "stream",
     "text": [
      "a: 1, 2\n",
      "b: 2, 4\n",
      "c: 3, 6\n"
     ]
    }
   ],
   "source": [
    "letters = ['a', 'b', 'c']\n",
    "nums = (1, 2, 3)\n",
    "nums2 = [2, 4, 6]\n",
    "\n",
    "for letter, num, num2 in zip(letters, nums, nums2):\n",
    "    print(f\"{letter}: {num}, {num2}\")"
   ]
  },
  {
   "cell_type": "code",
   "execution_count": null,
   "id": "af52d1f2",
   "metadata": {},
   "outputs": [],
   "source": []
  },
  {
   "cell_type": "code",
   "execution_count": 26,
   "id": "e1b736c5",
   "metadata": {},
   "outputs": [
    {
     "name": "stdout",
     "output_type": "stream",
     "text": [
      "a 1 2\n",
      "b 2 4\n",
      "c 3 6\n"
     ]
    }
   ],
   "source": [
    "letters = ['a', 'b', 'c']\n",
    "nums = (1, 2, 3)\n",
    "nums2 = [2, 4, 6]\n",
    "\n",
    "for i in range(3):\n",
    "    print(letters[i], nums[i], nums2[i])"
   ]
  },
  {
   "cell_type": "code",
   "execution_count": null,
   "id": "769664f0",
   "metadata": {},
   "outputs": [],
   "source": []
  },
  {
   "cell_type": "markdown",
   "id": "9e4f4473",
   "metadata": {},
   "source": [
    "## While Loop"
   ]
  },
  {
   "cell_type": "code",
   "execution_count": 29,
   "id": "f420c260",
   "metadata": {},
   "outputs": [
    {
     "name": "stdout",
     "output_type": "stream",
     "text": [
      "0  is  less than 5\n",
      "1  is  less than 5\n",
      "2  is  less than 5\n",
      "3  is  less than 5\n",
      "4  is  less than 5\n"
     ]
    }
   ],
   "source": [
    "# simple example\n",
    "\n",
    "count = 0\n",
    "\n",
    "while count < 5:\n",
    "    print(count, \" is  less than 5\")\n",
    "    count = count + 1"
   ]
  },
  {
   "cell_type": "code",
   "execution_count": null,
   "id": "b7850177",
   "metadata": {},
   "outputs": [],
   "source": []
  },
  {
   "cell_type": "markdown",
   "id": "da083193",
   "metadata": {},
   "source": [
    "## Break and Continue"
   ]
  },
  {
   "cell_type": "code",
   "execution_count": 30,
   "id": "3199edfd",
   "metadata": {},
   "outputs": [
    {
     "name": "stdout",
     "output_type": "stream",
     "text": [
      "1  is  less than 5\n",
      "2  is  less than 5\n",
      "Count is 3: End loop now!\n"
     ]
    }
   ],
   "source": [
    "# break\n",
    "\n",
    "count = 0\n",
    "\n",
    "while count < 5:\n",
    "    count += 1\n",
    "    if count == 3:\n",
    "        print('Count is 3: End loop now!')\n",
    "        break\n",
    "    print(count, \" is  less than 5\")"
   ]
  },
  {
   "cell_type": "code",
   "execution_count": 31,
   "id": "51817700",
   "metadata": {},
   "outputs": [
    {
     "name": "stdout",
     "output_type": "stream",
     "text": [
      "0 0\n",
      "0 1\n",
      "0 2\n",
      "1 0\n",
      "2 0\n",
      "2 1\n",
      "2 2\n"
     ]
    }
   ],
   "source": [
    "for i in range(3): # i=1\n",
    "    for j in range(3): # j=1\n",
    "        if i == 1 and j == 1:\n",
    "            break\n",
    "        else:\n",
    "            print(i, j)"
   ]
  },
  {
   "cell_type": "code",
   "execution_count": 32,
   "id": "28f886e3",
   "metadata": {},
   "outputs": [
    {
     "name": "stdout",
     "output_type": "stream",
     "text": [
      "1  is  less than 5\n",
      "2  is  less than 5\n",
      "Count is 3: Ignore further statements in this iteration\n",
      "4  is  less than 5\n",
      "5  is  less than 5\n"
     ]
    }
   ],
   "source": [
    "# continue\n",
    "\n",
    "count = 0\n",
    "\n",
    "while count < 5:\n",
    "    count += 1\n",
    "    if count == 3:\n",
    "        print('Count is 3: Ignore further statements in this iteration')\n",
    "        continue\n",
    "    print(count, \" is  less than 5\")"
   ]
  },
  {
   "cell_type": "code",
   "execution_count": 41,
   "id": "93d109ef",
   "metadata": {},
   "outputs": [
    {
     "data": {
      "text/plain": [
       "'Rick Sanchez'"
      ]
     },
     "execution_count": 41,
     "metadata": {},
     "output_type": "execute_result"
    }
   ],
   "source": [
    "new_name = [\"Rick Sanchez\", \"Morty Smith\"]\n",
    "\n",
    "new_name[0]"
   ]
  },
  {
   "cell_type": "code",
   "execution_count": 38,
   "id": "37069879",
   "metadata": {},
   "outputs": [
    {
     "data": {
      "text/plain": [
       "['RICK', 'MORTY', 'SUMMER', 'JERRY', 'BETH']"
      ]
     },
     "execution_count": 38,
     "metadata": {},
     "output_type": "execute_result"
    }
   ],
   "source": [
    "names = [\"Rick Sanchez\", \"Morty Smith\", \"Summer Smith\", \"Jerry Smith\", \"Beth Smith\"]\n",
    "\n",
    "firstnamecap = []\n",
    "for name in names:\n",
    "    firstnamecap.append(name.split()[0].upper())\n",
    "firstnamecap"
   ]
  },
  {
   "cell_type": "code",
   "execution_count": null,
   "id": "94e549a6",
   "metadata": {},
   "outputs": [],
   "source": [
    "## List Comprehension"
   ]
  },
  {
   "cell_type": "code",
   "execution_count": 43,
   "id": "c858b01b",
   "metadata": {},
   "outputs": [
    {
     "name": "stdout",
     "output_type": "stream",
     "text": [
      "['SANCHEZ', 'SMITH', 'SMITH', 'SMITH', 'SMITH']\n"
     ]
    }
   ],
   "source": [
    "names = [\"Rick Sanchez\", \"Morty Smith\", \"Summer Smith\", \"Jerry Smith\", \"Beth Smith\"]\n",
    "\n",
    "\n",
    "first_names = [name.split()[1].upper() for name in names]\n",
    "print(first_names)"
   ]
  },
  {
   "cell_type": "code",
   "execution_count": 44,
   "id": "7218dc41",
   "metadata": {},
   "outputs": [
    {
     "name": "stdout",
     "output_type": "stream",
     "text": [
      "['rick', 'morty', 'beth']\n"
     ]
    }
   ],
   "source": [
    "# example\n",
    "\n",
    "blacklist = ['Summer', 'Jerry']\n",
    "\n",
    "first_names = [name.split()[0].lower() for name in names if name.split()[0] not in blacklist]\n",
    "print(first_names)"
   ]
  },
  {
   "cell_type": "code",
   "execution_count": null,
   "id": "c308cbbf",
   "metadata": {},
   "outputs": [],
   "source": []
  },
  {
   "cell_type": "code",
   "execution_count": null,
   "id": "120e0642",
   "metadata": {},
   "outputs": [],
   "source": []
  },
  {
   "cell_type": "markdown",
   "id": "7d5987ab",
   "metadata": {},
   "source": [
    "## Fucntions"
   ]
  },
  {
   "cell_type": "code",
   "execution_count": null,
   "id": "5ce06104",
   "metadata": {},
   "outputs": [],
   "source": [
    "# optimize and organaize code"
   ]
  },
  {
   "cell_type": "code",
   "execution_count": 60,
   "id": "c2c3d928",
   "metadata": {},
   "outputs": [
    {
     "name": "stdout",
     "output_type": "stream",
     "text": [
      "5\n",
      "Input from user = 5\n"
     ]
    }
   ],
   "source": [
    "new_val = input()\n",
    "print(f'Input from user = {new_val}')"
   ]
  },
  {
   "cell_type": "code",
   "execution_count": 52,
   "id": "d703175f",
   "metadata": {},
   "outputs": [],
   "source": [
    "def cylinder_volume(height, radius, pi=3.14): #--> header\n",
    "#     pi = 3.14159\n",
    "    volume = height * pi * radius ** 2\n",
    "    return volume"
   ]
  },
  {
   "cell_type": "code",
   "execution_count": 55,
   "id": "a0ceff18",
   "metadata": {},
   "outputs": [
    {
     "name": "stdout",
     "output_type": "stream",
     "text": [
      "50.24\n"
     ]
    }
   ],
   "source": [
    "# usage and difference between print and return\n",
    "\n",
    "vols = cylinder_volume(4, 2) # --> function call\n",
    "print(vols)"
   ]
  },
  {
   "cell_type": "code",
   "execution_count": 62,
   "id": "9da9f51b",
   "metadata": {},
   "outputs": [
    {
     "name": "stdout",
     "output_type": "stream",
     "text": [
      "4\n",
      "50.24\n"
     ]
    }
   ],
   "source": [
    "height = input()\n",
    "\n",
    "print(cylinder_volume(float(height), 2))"
   ]
  },
  {
   "cell_type": "code",
   "execution_count": null,
   "id": "2d04400c",
   "metadata": {},
   "outputs": [],
   "source": []
  },
  {
   "cell_type": "code",
   "execution_count": null,
   "id": "058aae6e",
   "metadata": {},
   "outputs": [],
   "source": []
  },
  {
   "cell_type": "markdown",
   "id": "6439a83d",
   "metadata": {},
   "source": [
    "### Variable Scope"
   ]
  },
  {
   "cell_type": "code",
   "execution_count": 74,
   "id": "1bbca7ed",
   "metadata": {},
   "outputs": [
    {
     "name": "stdout",
     "output_type": "stream",
     "text": [
      "12\n",
      "0\n"
     ]
    }
   ],
   "source": [
    "egg_count = 0\n",
    "\n",
    "def buy_eggs(egg_count):\n",
    "    egg_count += 12 # purchase a dozen egg\n",
    "    print(egg_count)\n",
    "\n",
    "buy_eggs(egg_count)\n",
    "print(egg_count)"
   ]
  },
  {
   "cell_type": "code",
   "execution_count": 75,
   "id": "1797eb71",
   "metadata": {},
   "outputs": [
    {
     "name": "stdout",
     "output_type": "stream",
     "text": [
      "12\n",
      "0\n"
     ]
    }
   ],
   "source": [
    "egg_count = 0\n",
    "\n",
    "def buy_eggs(egg_count):\n",
    "    egg_count += 12 # purchase a dozen egg\n",
    "    return egg_count\n",
    "\n",
    "count = buy_eggs(egg_count)\n",
    "print(count)\n",
    "print(egg_count)"
   ]
  },
  {
   "cell_type": "code",
   "execution_count": 78,
   "id": "6a09e404",
   "metadata": {},
   "outputs": [
    {
     "name": "stdout",
     "output_type": "stream",
     "text": [
      "[13, 15]\n"
     ]
    }
   ],
   "source": [
    "egg_count_list = [1, 3]\n",
    "\n",
    "def buy_eggs(count_list):\n",
    "    for i in range(len(count_list)):\n",
    "        count_list[i] += 12\n",
    "#     return egg_count\n",
    "\n",
    "buy_eggs(egg_count_list)\n",
    "\n",
    "print(egg_count_list)"
   ]
  },
  {
   "cell_type": "code",
   "execution_count": null,
   "id": "669bb214",
   "metadata": {},
   "outputs": [],
   "source": [
    "egg_count = 0\n",
    "\n",
    "def buy_eggs(count):\n",
    "    return count + 12  # purchase a dozen eggs\n",
    "\n",
    "egg_count = buy_eggs(egg_count)\n",
    "\n",
    "print(egg_count)"
   ]
  },
  {
   "cell_type": "code",
   "execution_count": 79,
   "id": "4f9fcee6",
   "metadata": {},
   "outputs": [
    {
     "name": "stdout",
     "output_type": "stream",
     "text": [
      "Variable scope is an important concept.\n"
     ]
    }
   ],
   "source": [
    "# check for understanding\n",
    "# example 1:\n",
    "\n",
    "str1 = 'Functions are important programming concepts.'\n",
    "\n",
    "def print_fn():\n",
    "    str1 = 'Variable scope is an important concept.'\n",
    "    print(str1)\n",
    "\n",
    "print_fn()"
   ]
  },
  {
   "cell_type": "code",
   "execution_count": 81,
   "id": "a646cc54",
   "metadata": {},
   "outputs": [
    {
     "ename": "TypeError",
     "evalue": "print_fn() takes 0 positional arguments but 1 was given",
     "output_type": "error",
     "traceback": [
      "\u001b[1;31m---------------------------------------------------------------------------\u001b[0m",
      "\u001b[1;31mTypeError\u001b[0m                                 Traceback (most recent call last)",
      "Cell \u001b[1;32mIn [81], line 8\u001b[0m\n\u001b[0;32m      5\u001b[0m \u001b[38;5;28;01mdef\u001b[39;00m \u001b[38;5;21mprint_fn\u001b[39m():\n\u001b[0;32m      6\u001b[0m     \u001b[38;5;28mprint\u001b[39m(str1)\n\u001b[1;32m----> 8\u001b[0m \u001b[43mprint_fn\u001b[49m\u001b[43m(\u001b[49m\u001b[43mstr1\u001b[49m\u001b[43m)\u001b[49m\n",
      "\u001b[1;31mTypeError\u001b[0m: print_fn() takes 0 positional arguments but 1 was given"
     ]
    }
   ],
   "source": [
    "# example 2:\n",
    "\n",
    "str1 = 'Functions are important programming concepts.'\n",
    "\n",
    "def print_fn():\n",
    "    print(str1)\n",
    "\n",
    "print_fn(str1)"
   ]
  },
  {
   "cell_type": "code",
   "execution_count": null,
   "id": "ee395f70",
   "metadata": {},
   "outputs": [],
   "source": []
  },
  {
   "cell_type": "markdown",
   "id": "9f2a1a27",
   "metadata": {},
   "source": [
    "### Good Practice: Documentation using docstring"
   ]
  },
  {
   "cell_type": "code",
   "execution_count": null,
   "id": "fc51d07e",
   "metadata": {},
   "outputs": [],
   "source": [
    "def population_density(population, land_area):\n",
    "    \"\"\"Calculate the population density of an area.\n",
    "\n",
    "    INPUT:\n",
    "    population: int. The population of that area\n",
    "    land_area: int or float. This function is unit-agnostic, if you pass in values in terms\n",
    "    of square km or square miles the function will return a density in those units.\n",
    "\n",
    "    OUTPUT: \n",
    "    population_density: population / land_area. The population density of a particular area.\n",
    "    \"\"\"\n",
    "    return population / land_area"
   ]
  },
  {
   "cell_type": "code",
   "execution_count": null,
   "id": "6ad240bc",
   "metadata": {},
   "outputs": [],
   "source": [
    "# improved readability\n",
    "# eaisier to collaborate"
   ]
  },
  {
   "cell_type": "code",
   "execution_count": null,
   "id": "d50bfa90",
   "metadata": {},
   "outputs": [],
   "source": []
  },
  {
   "cell_type": "markdown",
   "id": "e8492e02",
   "metadata": {},
   "source": [
    "### Lambda expressions: anonymous functions"
   ]
  },
  {
   "cell_type": "code",
   "execution_count": 82,
   "id": "d0f59483",
   "metadata": {},
   "outputs": [
    {
     "data": {
      "text/plain": [
       "6"
      ]
     },
     "execution_count": 82,
     "metadata": {},
     "output_type": "execute_result"
    }
   ],
   "source": [
    "rect_area = lambda l, b: l*b\n",
    "\n",
    "rect_area(2, 3)"
   ]
  },
  {
   "cell_type": "code",
   "execution_count": null,
   "id": "2d30d164",
   "metadata": {},
   "outputs": [],
   "source": []
  },
  {
   "cell_type": "code",
   "execution_count": 87,
   "id": "10000ab9",
   "metadata": {},
   "outputs": [
    {
     "name": "stdout",
     "output_type": "stream",
     "text": [
      "[5, 6, 6]\n"
     ]
    }
   ],
   "source": [
    "def myfunc(n):\n",
    "    return len(n)\n",
    "\n",
    "fruits = ('apple', 'banana', 'cherry')\n",
    "\n",
    "x = list(map(myfunc, fruits))\n",
    "print(x)"
   ]
  },
  {
   "cell_type": "code",
   "execution_count": 88,
   "id": "119f03be",
   "metadata": {},
   "outputs": [
    {
     "data": {
      "text/plain": [
       "[5, 6, 6]"
      ]
     },
     "execution_count": 88,
     "metadata": {},
     "output_type": "execute_result"
    }
   ],
   "source": [
    "# rewrite using lambda fn\n",
    "\n",
    "list(map(lambda x: len(x), (('apple', 'banana', 'cherry'))))"
   ]
  },
  {
   "cell_type": "code",
   "execution_count": 89,
   "id": "14d38317",
   "metadata": {},
   "outputs": [
    {
     "name": "stdout",
     "output_type": "stream",
     "text": [
      "[1, 3, 5, 13]\n"
     ]
    }
   ],
   "source": [
    "# a list contains both even and odd numbers. \n",
    "seq = [0, 1, 2, 3, 5, 8, 13]\n",
    "\n",
    "\n",
    "def myfunc(n):\n",
    "    if n % 2 != 0:\n",
    "        return True\n",
    "    else:\n",
    "        return False\n",
    "    \n",
    "# result contains odd numbers of the list\n",
    "result = filter(myfunc, seq)\n",
    "print(list(result))"
   ]
  },
  {
   "cell_type": "code",
   "execution_count": 90,
   "id": "f41e5270",
   "metadata": {},
   "outputs": [
    {
     "name": "stdout",
     "output_type": "stream",
     "text": [
      "[1, 3, 5, 13]\n"
     ]
    }
   ],
   "source": [
    "# rewrite using lambda fn\n",
    "\n",
    "seq = [0, 1, 2, 3, 5, 8, 13]\n",
    "\n",
    "    \n",
    "# result contains odd numbers of the list\n",
    "result = filter(lambda x: x % 2 != 0, seq)\n",
    "print(list(result))"
   ]
  },
  {
   "cell_type": "code",
   "execution_count": 93,
   "id": "d516bd11",
   "metadata": {},
   "outputs": [],
   "source": [
    "def my_new_fn():\n",
    "    pass"
   ]
  }
 ],
 "metadata": {
  "kernelspec": {
   "display_name": "Python 3 (ipykernel)",
   "language": "python",
   "name": "python3"
  },
  "language_info": {
   "codemirror_mode": {
    "name": "ipython",
    "version": 3
   },
   "file_extension": ".py",
   "mimetype": "text/x-python",
   "name": "python",
   "nbconvert_exporter": "python",
   "pygments_lexer": "ipython3",
   "version": "3.10.8"
  }
 },
 "nbformat": 4,
 "nbformat_minor": 5
}
