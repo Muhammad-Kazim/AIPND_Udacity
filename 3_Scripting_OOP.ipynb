{
 "cells": [
  {
   "cell_type": "code",
   "execution_count": null,
   "id": "f02b2a35",
   "metadata": {},
   "outputs": [],
   "source": []
  },
  {
   "cell_type": "code",
   "execution_count": null,
   "id": "d64f678d",
   "metadata": {},
   "outputs": [],
   "source": [
    "import numpy as np"
   ]
  },
  {
   "cell_type": "code",
   "execution_count": null,
   "id": "8f2a3efd",
   "metadata": {},
   "outputs": [],
   "source": []
  },
  {
   "cell_type": "markdown",
   "id": "7c99c064",
   "metadata": {},
   "source": [
    "## Conda Cheatsheet\n",
    "#### https://docs.conda.io/projects/conda/en/4.6.0/_downloads/52a95608c49671267e40c689e0bc00ca/conda-cheatsheet.pdf"
   ]
  },
  {
   "cell_type": "markdown",
   "id": "192453c2",
   "metadata": {},
   "source": [
    "## Know more about paths and environments\n",
    "#### https://superuser.com/questions/284342/what-are-path-and-other-environment-variables-and-how-can-i-set-or-use-them\n",
    "#### https://stackoverflow.com/questions/32597209/python-not-working-in-the-command-line-of-git-bash"
   ]
  },
  {
   "cell_type": "markdown",
   "id": "719d8c29",
   "metadata": {},
   "source": [
    "## Contents for Today:\n",
    "* Errors and Exceptions\n",
    "* Reading and Writing Files\n",
    "* Classes\n",
    "    * Objects\n",
    "    * Inheritance\n",
    "    * Magic Methods\n",
    "    * Decorators\n",
    "    * Super Method"
   ]
  },
  {
   "cell_type": "code",
   "execution_count": null,
   "id": "eb03265a",
   "metadata": {},
   "outputs": [],
   "source": []
  },
  {
   "cell_type": "markdown",
   "id": "6ad9dce7",
   "metadata": {},
   "source": [
    "## Errors and exceptions\n",
    "### syntax errors and exceptions"
   ]
  },
  {
   "cell_type": "code",
   "execution_count": 4,
   "id": "2a16b754",
   "metadata": {},
   "outputs": [],
   "source": [
    "# syntax\n",
    "# to catch only specific types of errors\n",
    "\n",
    "try:\n",
    "    pass\n",
    "except:\n",
    "    pass\n",
    "\n",
    "try:\n",
    "    # some code\n",
    "    pass\n",
    "except ValueError:\n",
    "    # some code\n",
    "    pass\n",
    "except KeyboardInterrupt:\n",
    "    # some code\n",
    "    pass"
   ]
  },
  {
   "cell_type": "code",
   "execution_count": 6,
   "id": "5a6f3670",
   "metadata": {},
   "outputs": [
    {
     "ename": "ZeroDivisionError",
     "evalue": "division by zero",
     "output_type": "error",
     "traceback": [
      "\u001b[1;31m---------------------------------------------------------------------------\u001b[0m",
      "\u001b[1;31mZeroDivisionError\u001b[0m                         Traceback (most recent call last)",
      "Cell \u001b[1;32mIn [6], line 1\u001b[0m\n\u001b[1;32m----> 1\u001b[0m alpha \u001b[38;5;241m=\u001b[39m \u001b[38;5;241;43m5\u001b[39;49m\u001b[38;5;241;43m/\u001b[39;49m\u001b[38;5;241;43m0\u001b[39;49m\n",
      "\u001b[1;31mZeroDivisionError\u001b[0m: division by zero"
     ]
    }
   ],
   "source": [
    "alpha = 5/0"
   ]
  },
  {
   "cell_type": "code",
   "execution_count": 9,
   "id": "fc551c4d",
   "metadata": {},
   "outputs": [
    {
     "name": "stdout",
     "output_type": "stream",
     "text": [
      "ZeroDivisionError occurred: division by zero\n",
      "Contining code\n"
     ]
    }
   ],
   "source": [
    "try:\n",
    "    alpha = 5/0\n",
    "except ZeroDivisionError as e:\n",
    "    print(\"ZeroDivisionError occurred: {}\".format(e))\n",
    "    print('Contining code')"
   ]
  },
  {
   "cell_type": "code",
   "execution_count": 10,
   "id": "20df441e",
   "metadata": {},
   "outputs": [
    {
     "name": "stdout",
     "output_type": "stream",
     "text": [
      "Exception occurred: division by zero\n"
     ]
    }
   ],
   "source": [
    "## Accessing Error Msgs and custom error msg\n",
    "\n",
    "try:\n",
    "    alpha = 5/0\n",
    "except Exception as e:\n",
    "   # some code\n",
    "   print(\"Exception occurred: {}\".format(e))"
   ]
  },
  {
   "cell_type": "code",
   "execution_count": null,
   "id": "30c506a8",
   "metadata": {},
   "outputs": [],
   "source": []
  },
  {
   "cell_type": "code",
   "execution_count": null,
   "id": "5fc20e75",
   "metadata": {},
   "outputs": [],
   "source": [
    "## Custom Errors"
   ]
  },
  {
   "cell_type": "code",
   "execution_count": 13,
   "id": "671c1f60",
   "metadata": {},
   "outputs": [
    {
     "name": "stdout",
     "output_type": "stream",
     "text": [
      "Exception occurred: Raise when alpha is equal to 5\n",
      "Final Conclusion\n"
     ]
    }
   ],
   "source": [
    "class MyException(Exception):\n",
    "    \"\"\"Raise for my specific kind of exception\"\"\"\n",
    "\n",
    "try:\n",
    "    alpha = 5\n",
    "    if alpha == 5:\n",
    "        raise MyException(\"Raise when alpha is equal to 5\")\n",
    "except MyException as e:\n",
    "    print(\"Exception occurred: {}\".format(e))\n",
    "finally:\n",
    "    print('Final Conclusion')"
   ]
  },
  {
   "cell_type": "code",
   "execution_count": null,
   "id": "805ae7f3",
   "metadata": {},
   "outputs": [],
   "source": []
  },
  {
   "cell_type": "markdown",
   "id": "05cd8127",
   "metadata": {},
   "source": [
    "## Reading and Writing Files"
   ]
  },
  {
   "cell_type": "code",
   "execution_count": 15,
   "id": "7c3ff2c9",
   "metadata": {
    "scrolled": true
   },
   "outputs": [
    {
     "name": "stdout",
     "output_type": "stream",
     "text": [
      "Graham Chapman\n",
      "Eric Idle\n",
      "Terry Jones\n",
      "Michael Palin\n",
      "Terry Gilliam\n",
      "John Cleese\n",
      "Carol Cleveland\n",
      "Ian Davidson\n",
      "John Hughman\n",
      "The Fred Tomlinson Singers\n",
      "Connie Booth\n",
      "Bob Raymond\n",
      "Lyn Ashley\n",
      "Rita Davies\n",
      "Stanley Mason\n",
      "David Ballantyne\n",
      "Donna Reading\n",
      "Peter Brett\n",
      "Maureen Flanagan\n",
      "Katya Wyeth\n",
      "Frank Lester\n",
      "Neil Innes\n",
      "Dick Vosburgh\n",
      "Sandra Richards\n",
      "Julia Breck\n",
      "Nicki Howorth\n",
      "Jimmy Hill\n",
      "Barry Cryer\n",
      "Jeannette Wild\n",
      "Marjorie Wilde\n",
      "Marie Anderson\n",
      "Caron Gardner\n",
      "Nosher Powell\n",
      "Carolae Donoghue\n",
      "Vincent Wong\n",
      "Helena Clayton\n",
      "Nigel Jones\n",
      "Roy Gunson\n",
      "Daphne Davey\n",
      "Stenson Falke\n",
      "Alexander Curry\n",
      "Frank Williams\n",
      "Ralph Wood\n",
      "Rosalind Bailey\n",
      "Marion Mould\n",
      "Sheila Sands\n",
      "Richard Baker\n",
      "Douglas Adams\n",
      "Ewa Aulin\n",
      "Reginald Bosanquet\n",
      "Barbara Lindley\n",
      "Roy Brent\n",
      "Jonas Card\n",
      "Tony Christopher\n",
      "Beulah Hughes\n",
      "Peter Kodak\n",
      "Lulu\n",
      "Jay Neill\n",
      "Graham Skidmore\n",
      "Ringo Starr\n",
      "Fred Tomlinson\n",
      "David Hamilton\n",
      "Suzy Mandel\n",
      "Peter Woods\n"
     ]
    }
   ],
   "source": [
    "## also important: scope of vars within with\n",
    "\n",
    "def create_cast_list(filename):\n",
    "    cast_list = []\n",
    "    with open(filename) as f:\n",
    "        for line in f:\n",
    "            name = line.split(\",\")[0]\n",
    "            cast_list.append(name)\n",
    "\n",
    "    return cast_list\n",
    "\n",
    "cast_list = create_cast_list('3_flying_circus_cast.txt')\n",
    "for actor in cast_list:\n",
    "    print(actor)"
   ]
  },
  {
   "cell_type": "code",
   "execution_count": null,
   "id": "05a4d3bf",
   "metadata": {},
   "outputs": [],
   "source": [
    "[\"Graham Chapman\",  \"Various / ... (46 episodes\", \"1969-1974)\"]"
   ]
  },
  {
   "cell_type": "code",
   "execution_count": 22,
   "id": "c81a2252",
   "metadata": {},
   "outputs": [],
   "source": [
    "with open(\"3_write_to_file.txt\", \"w\", encoding=\"cp1252\") as file:\n",
    "    for actor in cast_list:\n",
    "        line = actor + '\\n'\n",
    "        file.write(line)\n",
    "# file"
   ]
  },
  {
   "cell_type": "code",
   "execution_count": 19,
   "id": "6ccc0394",
   "metadata": {},
   "outputs": [
    {
     "data": {
      "text/plain": [
       "'Peter Woods\\n'"
      ]
     },
     "execution_count": 19,
     "metadata": {},
     "output_type": "execute_result"
    }
   ],
   "source": [
    "line"
   ]
  },
  {
   "cell_type": "code",
   "execution_count": 21,
   "id": "cb030c13",
   "metadata": {},
   "outputs": [
    {
     "data": {
      "text/plain": [
       "<_io.TextIOWrapper name='3_write_to_file.txt' mode='w' encoding='cp1252'>"
      ]
     },
     "execution_count": 21,
     "metadata": {},
     "output_type": "execute_result"
    }
   ],
   "source": [
    "file"
   ]
  },
  {
   "cell_type": "code",
   "execution_count": 20,
   "id": "9c130545",
   "metadata": {},
   "outputs": [
    {
     "ename": "ValueError",
     "evalue": "I/O operation on closed file.",
     "output_type": "error",
     "traceback": [
      "\u001b[1;31m---------------------------------------------------------------------------\u001b[0m",
      "\u001b[1;31mValueError\u001b[0m                                Traceback (most recent call last)",
      "Cell \u001b[1;32mIn [20], line 2\u001b[0m\n\u001b[0;32m      1\u001b[0m \u001b[38;5;66;03m# file\u001b[39;00m\n\u001b[1;32m----> 2\u001b[0m \u001b[43mfile\u001b[49m\u001b[38;5;241;43m.\u001b[39;49m\u001b[43mwrite\u001b[49m\u001b[43m(\u001b[49m\u001b[43mline\u001b[49m\u001b[43m)\u001b[49m\n",
      "\u001b[1;31mValueError\u001b[0m: I/O operation on closed file."
     ]
    }
   ],
   "source": [
    "# file\n",
    "file.write(line)"
   ]
  },
  {
   "cell_type": "markdown",
   "id": "af6c9601",
   "metadata": {},
   "source": [
    "## OOP --> Classes, objects, methods and magic methods, inheritance"
   ]
  },
  {
   "cell_type": "code",
   "execution_count": 31,
   "id": "58ab4cac",
   "metadata": {},
   "outputs": [],
   "source": [
    "# example of a calss\n",
    "\n",
    "# class?? -> blue print\n",
    "\n",
    "# clothing store\n",
    "# shirts\n",
    "# pants\n",
    "# caps\n",
    "\n",
    "class shirts:\n",
    "    def __init__(self, color, price):\n",
    "#         self.color = color\n",
    "        self.color = color\n",
    "        self.price = price\n",
    "    \n",
    "    def cal_new_price(self, discount):\n",
    "        pass\n",
    "\n",
    "shirt1 = shirts('red', 250)\n",
    "shirt2 = shirts('green', 1250)\n",
    "\n",
    "\n",
    "# shirts -> color, price, discount\n",
    "# shirt1 -> color, price, discount\n",
    "# shirt2 -> color, price, discount\n",
    "# shirt3 -> color, price, discount\n",
    "\n",
    "\n",
    "#  functions -> code encapsulate\n",
    "\n",
    "# Distribution(mu=5)\n",
    "# private vs public methods/attributes\n",
    "\n",
    "class Distribution():\n",
    "    \n",
    "    def __init__(self, mu=0, sigma=1):\n",
    "    \n",
    "        \"\"\" Generic distribution class for calculating and \n",
    "        visualizing a probability distribution.\n",
    "    \n",
    "        Attributes:\n",
    "            mean (float) representing the mean value of the distribution\n",
    "            stdev (float) representing the standard deviation of the distribution\n",
    "            data_list (list of floats) a list of floats extracted from the data file\n",
    "            \"\"\"\n",
    "        \n",
    "        self._mean = mu\n",
    "        self.stdev = sigma\n",
    "        self.data = []\n",
    "\n",
    "\n",
    "    def read_data_file(self, file_name):\n",
    "    \n",
    "        \"\"\"Function to read in data from a txt file. The txt file should have\n",
    "        one number (float) per line. The numbers are stored in the data attribute.\n",
    "                \n",
    "        Args:\n",
    "            file_name (string): name of a file to read from\n",
    "        \n",
    "        Returns:\n",
    "            None\n",
    "        \n",
    "        \"\"\"\n",
    "            \n",
    "        with open(file_name) as file:\n",
    "            data_list = []\n",
    "            line = file.readline()\n",
    "            while line:\n",
    "                data_list.append(int(line))\n",
    "                line = file.readline()\n",
    "        file.close()\n",
    "    \n",
    "        self.data = data_list"
   ]
  },
  {
   "cell_type": "code",
   "execution_count": 35,
   "id": "dc65598a",
   "metadata": {},
   "outputs": [
    {
     "name": "stdout",
     "output_type": "stream",
     "text": [
      "5 0\n"
     ]
    }
   ],
   "source": [
    "new_obj = Distribution(mu=5, sigma=5)\n",
    "\n",
    "new_obj2 = Distribution()\n",
    "\n",
    "print(new_obj.mean, new_obj2.mean)"
   ]
  },
  {
   "cell_type": "markdown",
   "id": "74ca18ad",
   "metadata": {},
   "source": [
    "## Inheritance"
   ]
  },
  {
   "cell_type": "code",
   "execution_count": 51,
   "id": "ae87cea5",
   "metadata": {},
   "outputs": [],
   "source": [
    "# example of inheritance\n",
    "\n",
    "import math\n",
    "import matplotlib.pyplot as plt\n",
    "\n",
    "\n",
    "class Gaussian(Distribution):\n",
    "    \"\"\" Gaussian distribution class for calculating and \n",
    "    visualizing a Gaussian distribution.\n",
    "    \n",
    "    Attributes:\n",
    "        mean (float) representing the mean value of the distribution\n",
    "        stdev (float) representing the standard deviation of the distribution\n",
    "        data_list (list of floats) a list of floats extracted from the data file\n",
    "            \n",
    "    \"\"\"\n",
    "    def __init__(self, mu=0, sigma=1):\n",
    "        \n",
    "#         self.num = numbers\n",
    "#         self.mean = mu\n",
    "#         self.stdev = sigma\n",
    "#         self.data = []\n",
    "        Distribution.__init__(self, mu, sigma)\n",
    "    \n",
    "    def calculate_mean(self):\n",
    "    \n",
    "        \"\"\"Function to calculate the mean of the data set.\n",
    "        \n",
    "        Args: \n",
    "            None\n",
    "        \n",
    "        Returns: \n",
    "            float: mean of the data set\n",
    "    \n",
    "        \"\"\"\n",
    "                    \n",
    "        avg = 1.0 * sum(self.data) / len(self.data)        \n",
    "        self.mean = avg        \n",
    "        return self.mean\n",
    "\n",
    "\n",
    "    def calculate_stdev(self, sample=True):\n",
    "\n",
    "        \"\"\"Function to calculate the standard deviation of the data set.\n",
    "        \n",
    "        Args: \n",
    "            sample (bool): whether the data represents a sample or population\n",
    "        \n",
    "        Returns: \n",
    "            float: standard deviation of the data set\n",
    "    \n",
    "        \"\"\"\n",
    "\n",
    "        if sample:\n",
    "            n = len(self.data) - 1\n",
    "        else:\n",
    "            n = len(self.data)\n",
    "    \n",
    "        mean = self.calculate_mean()    \n",
    "        sigma = 0\n",
    "    \n",
    "        for d in self.data:\n",
    "            sigma += (d - mean) ** 2\n",
    "        \n",
    "        sigma = math.sqrt(sigma / n)    \n",
    "        self.stdev = sigma       \n",
    "        return self.stdev\n",
    "        \n",
    "    def __add__(self, other): # example of magic method\n",
    "        \n",
    "        \"\"\"Function to add together two Gaussian distributions\n",
    "        \n",
    "        Args:\n",
    "            other (Gaussian): Gaussian instance\n",
    "            \n",
    "        Returns:\n",
    "            Gaussian: Gaussian distribution\n",
    "            \n",
    "        \"\"\"\n",
    "        # g1\n",
    "        # g2\n",
    "        # g1 + g2\n",
    "        \n",
    "        result = Gaussian()\n",
    "        result.mean = self.mean + other.mean\n",
    "        result.stdev = math.sqrt(self.stdev ** 2 + other.stdev ** 2)\n",
    "        \n",
    "        return result\n",
    "        \n",
    "        \n",
    "    def __repr__(self):\n",
    "    \n",
    "        \"\"\"Function to output the characteristics of the Gaussian instance\n",
    "        \n",
    "        Args:\n",
    "            None\n",
    "        \n",
    "        Returns:\n",
    "            string: characteristics of the Gaussian\n",
    "        \n",
    "        \"\"\"\n",
    "        \n",
    "        return \"mean {}, standard deviation {}\".format(self.mean, self.stdev)"
   ]
  },
  {
   "cell_type": "code",
   "execution_count": null,
   "id": "d5f0b4fe",
   "metadata": {},
   "outputs": [],
   "source": []
  },
  {
   "cell_type": "code",
   "execution_count": 53,
   "id": "d23e84f0",
   "metadata": {},
   "outputs": [],
   "source": [
    "# example of objects\n",
    "# initialize two gaussian distributions\n",
    "gaussian_one = Gaussian(25, 3)\n",
    "gaussian_two = Gaussian(30, 2)\n",
    "gaussian_three = Gaussian()"
   ]
  },
  {
   "cell_type": "code",
   "execution_count": 57,
   "id": "141cf63f",
   "metadata": {},
   "outputs": [
    {
     "data": {
      "text/plain": [
       "mean 30, standard deviation 3"
      ]
     },
     "execution_count": 57,
     "metadata": {},
     "output_type": "execute_result"
    }
   ],
   "source": [
    "gaussian_one = Gaussian(25, 3)\n",
    "gaussian_one.mean = 30\n",
    "gaussian_one"
   ]
  },
  {
   "cell_type": "code",
   "execution_count": 55,
   "id": "aab622a4",
   "metadata": {},
   "outputs": [],
   "source": [
    "gaussian_three = gaussian_one + gaussian_two"
   ]
  },
  {
   "cell_type": "code",
   "execution_count": 47,
   "id": "155b2504",
   "metadata": {},
   "outputs": [
    {
     "data": {
      "text/plain": [
       "mean 0, standard deviation 1"
      ]
     },
     "execution_count": 47,
     "metadata": {},
     "output_type": "execute_result"
    }
   ],
   "source": [
    "## usefulness of __repr__()\n",
    "# Gaussian()"
   ]
  },
  {
   "cell_type": "code",
   "execution_count": null,
   "id": "16c4ee92",
   "metadata": {},
   "outputs": [],
   "source": [
    "# add gaussian_one and gaussian_two together\n",
    "gaus3  = gaussian_one + gaussian_two"
   ]
  },
  {
   "cell_type": "code",
   "execution_count": null,
   "id": "e6215855",
   "metadata": {},
   "outputs": [],
   "source": [
    "class1 ="
   ]
  },
  {
   "cell_type": "code",
   "execution_count": 29,
   "id": "c7e955eb",
   "metadata": {},
   "outputs": [
    {
     "data": {
      "text/plain": [
       "('waqas', 'saad')"
      ]
     },
     "execution_count": 29,
     "metadata": {},
     "output_type": "execute_result"
    }
   ],
   "source": [
    "## super().__init__()\n",
    "\n",
    "new_person = Person('waqas', '2')\n",
    "new_person2 = Person('saad', '3')\n",
    "\n",
    "new_person.name, new_person2.name"
   ]
  },
  {
   "cell_type": "code",
   "execution_count": 23,
   "id": "b44094d6",
   "metadata": {},
   "outputs": [
    {
     "name": "stdout",
     "output_type": "stream",
     "text": [
      "Mayank Mayank\n"
     ]
    }
   ],
   "source": [
    "class Person:\n",
    " \n",
    "    # Constructor\n",
    "    def __init__(self, name, ids):\n",
    "        self.name = name\n",
    "        self.id = ids\n",
    " \n",
    "    # To check if this person is an employee\n",
    "    def Display(self):\n",
    "        print(self.name, self.id)\n",
    "\n",
    "class Emp(Person):\n",
    "     \n",
    "    def __init__(self, name, ids):\n",
    "#         self._name = name\n",
    "        super().__init__(name, ids)\n",
    " \n",
    "    def Print(self):\n",
    "        print(\"Emp class called\")\n",
    "\n",
    "Emp_details = Emp(\"Mayank\", 103)\n",
    " \n",
    "# calling parent class function\n",
    "print(Emp_details._name, Emp_details.name)"
   ]
  },
  {
   "cell_type": "code",
   "execution_count": null,
   "id": "74126f23",
   "metadata": {},
   "outputs": [],
   "source": []
  },
  {
   "cell_type": "markdown",
   "id": "d502af6b",
   "metadata": {},
   "source": [
    "## Decorators\n",
    "#### https://www.geeksforgeeks.org/decorators-in-python/\n",
    "#### https://python-course.eu/oop/properties-vs-getters-and-setters.php"
   ]
  },
  {
   "cell_type": "code",
   "execution_count": 58,
   "id": "d38f832e",
   "metadata": {},
   "outputs": [
    {
     "name": "stdout",
     "output_type": "stream",
     "text": [
      "3628800\n",
      "Total time taken in :  factorial 2.0011017322540283\n"
     ]
    }
   ],
   "source": [
    "# importing libraries\n",
    "import time\n",
    "import math\n",
    "\n",
    "# args/kwargs\n",
    "# decorator to calculate duration\n",
    "# taken by any function.\n",
    "def calculate_time(func):\n",
    "     \n",
    "    # added arguments inside the inner1,\n",
    "    # if function takes any arguments,\n",
    "    # can be added like this.\n",
    "    def inner1(*args, **kwargs):\n",
    " \n",
    "        # storing time before function execution\n",
    "        begin = time.time()\n",
    "         \n",
    "        func(*args, **kwargs)\n",
    " \n",
    "        # storing time after function execution\n",
    "        end = time.time()\n",
    "        print(\"Total time taken in : \", func.__name__, end - begin)\n",
    " \n",
    "    return inner1\n",
    " \n",
    " \n",
    " \n",
    "# this can be added to any function present,\n",
    "# in this case to calculate a factorial\n",
    "@calculate_time\n",
    "def factorial(num):\n",
    " \n",
    "    # sleep 2 seconds because it takes very less time\n",
    "    # so that you can see the actual difference\n",
    "    time.sleep(2)\n",
    "    print(math.factorial(num))\n",
    "\n",
    "# calling the function.\n",
    "factorial(10)"
   ]
  },
  {
   "cell_type": "code",
   "execution_count": null,
   "id": "03fdf1a4",
   "metadata": {},
   "outputs": [],
   "source": [
    "factorial = calulate_time(factorial)"
   ]
  },
  {
   "cell_type": "code",
   "execution_count": 61,
   "id": "1f55c6c0",
   "metadata": {},
   "outputs": [
    {
     "name": "stdout",
     "output_type": "stream",
     "text": [
      "7\n",
      "Total time taken in :  func2 2.0009593963623047\n"
     ]
    }
   ],
   "source": [
    "@calculate_time\n",
    "def func2():\n",
    "    time.sleep(2)\n",
    "    print(2+5)\n",
    "    \n",
    "func2()"
   ]
  },
  {
   "cell_type": "code",
   "execution_count": null,
   "id": "5643ae95",
   "metadata": {},
   "outputs": [],
   "source": [
    "# project_1\n",
    "# qs: dataset\n",
    "# dif docs/dataset\n",
    "# model -> scikit_learn/pytorch/tensorflow/keras\n",
    "# model = pytorch.\n",
    "# pytorch.VGG"
   ]
  },
  {
   "cell_type": "code",
   "execution_count": null,
   "id": "e2a11216",
   "metadata": {},
   "outputs": [],
   "source": []
  },
  {
   "cell_type": "code",
   "execution_count": 63,
   "id": "2d13a244",
   "metadata": {},
   "outputs": [],
   "source": [
    "class P:\n",
    "    def __init__(self, x):\n",
    "        self.x = x\n",
    "    @property\n",
    "    def x(self):\n",
    "        return self.__x\n",
    "    @x.setter\n",
    "    def x(self, x):\n",
    "        if x < 0:\n",
    "            self.__x = 0\n",
    "        elif x > 1000:\n",
    "            self.__x = 1000\n",
    "        else:\n",
    "            self.__x = x"
   ]
  },
  {
   "cell_type": "code",
   "execution_count": 64,
   "id": "35c16288",
   "metadata": {},
   "outputs": [
    {
     "data": {
      "text/plain": [
       "1000"
      ]
     },
     "execution_count": 64,
     "metadata": {},
     "output_type": "execute_result"
    }
   ],
   "source": [
    "p1 = P(1001)\n",
    "p1.x"
   ]
  },
  {
   "cell_type": "code",
   "execution_count": 65,
   "id": "dcab9707",
   "metadata": {},
   "outputs": [
    {
     "data": {
      "text/plain": [
       "0"
      ]
     },
     "execution_count": 65,
     "metadata": {},
     "output_type": "execute_result"
    }
   ],
   "source": [
    "p1.x = -12\n",
    "p1.x"
   ]
  }
 ],
 "metadata": {
  "kernelspec": {
   "display_name": "Python 3 (ipykernel)",
   "language": "python",
   "name": "python3"
  },
  "language_info": {
   "codemirror_mode": {
    "name": "ipython",
    "version": 3
   },
   "file_extension": ".py",
   "mimetype": "text/x-python",
   "name": "python",
   "nbconvert_exporter": "python",
   "pygments_lexer": "ipython3",
   "version": "3.10.8"
  }
 },
 "nbformat": 4,
 "nbformat_minor": 5
}
