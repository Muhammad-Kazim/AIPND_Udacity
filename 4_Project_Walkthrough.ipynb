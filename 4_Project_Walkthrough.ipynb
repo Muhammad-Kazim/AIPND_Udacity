{
 "cells": [
  {
   "cell_type": "code",
   "execution_count": 1,
   "id": "b138d0dc",
   "metadata": {},
   "outputs": [],
   "source": [
    "# discuss problems"
   ]
  },
  {
   "cell_type": "code",
   "execution_count": 2,
   "id": "c2d104c3",
   "metadata": {},
   "outputs": [],
   "source": [
    "# project overview\n",
    "\n",
    "# what is a classifier\n",
    "# input -> process/function/map -> output\n",
    "# output = function(input)"
   ]
  },
  {
   "cell_type": "code",
   "execution_count": 5,
   "id": "48259d43",
   "metadata": {},
   "outputs": [
    {
     "data": {
      "text/plain": [
       "'\\nIn this project, you will use a created image classifier to identify dog breeds.\\nWe ask you to focus on Python and not on the actual classifier.\\n'"
      ]
     },
     "execution_count": 5,
     "metadata": {},
     "output_type": "execute_result"
    }
   ],
   "source": [
    "\"\"\"\n",
    "In this project, you will use a created image classifier to identify dog breeds.\n",
    "We ask you to focus on Python and not on the actual classifier.\n",
    "\"\"\"\n"
   ]
  },
  {
   "cell_type": "code",
   "execution_count": 6,
   "id": "94cce4aa",
   "metadata": {},
   "outputs": [],
   "source": [
    "# how classifiers work\n",
    "\n",
    "# input -> black box model -> output"
   ]
  },
  {
   "cell_type": "code",
   "execution_count": 45,
   "id": "639dadfa",
   "metadata": {},
   "outputs": [
    {
     "name": "stdout",
     "output_type": "stream",
     "text": [
      "\n",
      "Total Elapsed Runtime: 5.000990629196167 in seconds.\n"
     ]
    }
   ],
   "source": [
    "# part 1: timing\n",
    "\n",
    "from time import time, sleep\n",
    "\n",
    "# Sets start time\n",
    "start_time = time()\n",
    "\n",
    "# Replace sleep(75) below with code you want to time\n",
    "sleep(5)\n",
    "\n",
    "# Sets end time\n",
    "end_time = time()\n",
    "\n",
    "# Computes overall runtime in seconds\n",
    "tot_time = end_time - start_time\n",
    "\n",
    "# Prints overall runtime in seconds\n",
    "print(\"\\nTotal Elapsed Runtime:\", tot_time, \"in seconds.\")"
   ]
  },
  {
   "cell_type": "code",
   "execution_count": null,
   "id": "ae3deedd",
   "metadata": {},
   "outputs": [],
   "source": [
    "print(x + y)"
   ]
  },
  {
   "cell_type": "code",
   "execution_count": null,
   "id": "3f5c427d",
   "metadata": {},
   "outputs": [],
   "source": [
    "# part 2: argparse\n",
    "\n",
    "# https://docs.python.org/3/howto/argparse.html\n",
    "# go to .txt file for example"
   ]
  },
  {
   "cell_type": "code",
   "execution_count": null,
   "id": "3dee0688",
   "metadata": {},
   "outputs": [],
   "source": []
  },
  {
   "cell_type": "code",
   "execution_count": 49,
   "id": "7e4c7756",
   "metadata": {},
   "outputs": [
    {
     "name": "stdout",
     "output_type": "stream",
     "text": [
      "GeeksForGeeks\n"
     ]
    }
   ],
   "source": [
    "# rstrip\n",
    "\n",
    "string = \"GeeksForGeeks          \"\n",
    "print(string.rstrip())"
   ]
  },
  {
   "cell_type": "code",
   "execution_count": 50,
   "id": "1e9d1ddf",
   "metadata": {},
   "outputs": [
    {
     "name": "stdout",
     "output_type": "stream",
     "text": [
      "[1, 2, 3, 4]\n",
      "[1, 2, 2.5, 3, 4]\n"
     ]
    }
   ],
   "source": [
    "# append\n",
    "\n",
    "new_list = [1, 2, 3]\n",
    "\n",
    "new_list.append(4)\n",
    "\n",
    "print(new_list)\n",
    "\n",
    "new_list.insert(2, 2.5)\n",
    "\n",
    "print(new_list)"
   ]
  },
  {
   "cell_type": "code",
   "execution_count": 51,
   "id": "31408b78",
   "metadata": {},
   "outputs": [
    {
     "data": {
      "text/plain": [
       "[1, 2, 2.5, 3, 4, 5, 6, 'apple']"
      ]
     },
     "execution_count": 51,
     "metadata": {},
     "output_type": "execute_result"
    }
   ],
   "source": [
    "# extend\n",
    "\n",
    "new_list.extend([5, 6, 'apple'])\n",
    "\n",
    "new_list"
   ]
  },
  {
   "cell_type": "code",
   "execution_count": 44,
   "id": "f187c433",
   "metadata": {},
   "outputs": [
    {
     "data": {
      "text/plain": [
       "[1, 2, 2.5, 3, 4, 5, 6, 'apple', [7, 8, 'orange']]"
      ]
     },
     "execution_count": 44,
     "metadata": {},
     "output_type": "execute_result"
    }
   ],
   "source": [
    "new_list.append([7, 8, 'orange'])\n",
    "\n",
    "new_list"
   ]
  },
  {
   "cell_type": "code",
   "execution_count": null,
   "id": "b5e887cc",
   "metadata": {},
   "outputs": [],
   "source": []
  },
  {
   "cell_type": "code",
   "execution_count": 56,
   "id": "871ef776",
   "metadata": {},
   "outputs": [
    {
     "name": "stdout",
     "output_type": "stream",
     "text": [
      "D:/Projects/Udacity/AIPND_SL/JupyterNotebook/4_using_argparse.py\n"
     ]
    }
   ],
   "source": [
    "# part 3: os.listdir, reading from files, dictionary with values as lists\n",
    "\n",
    "import os\n",
    "\n",
    "datapath = 'D:/Projects/Udacity/AIPND_SL/JupyterNotebook'\n",
    "files = os.listdir(datapath)\n",
    "\n",
    "for file in files:\n",
    "    if file[0] != '.' and file[-3:] == '.py':\n",
    "        print(f'{datapath}/{file}')"
   ]
  },
  {
   "cell_type": "code",
   "execution_count": null,
   "id": "bd9f9838",
   "metadata": {},
   "outputs": [],
   "source": []
  },
  {
   "cell_type": "code",
   "execution_count": 57,
   "id": "54ac3987",
   "metadata": {},
   "outputs": [
    {
     "name": "stdout",
     "output_type": "stream",
     "text": [
      "\n",
      "Printing all key-value pairs in dictionary results_dic:\n",
      "Filename= beagle_0239.jpg    Pet Label= beagle\n",
      "Filename= Boston_terrier_02259.jpg    Pet Label= boston terrier\n"
     ]
    }
   ],
   "source": [
    "results_dic = dict()\n",
    "\n",
    "filenames = [\"beagle_0239.jpg\", \"Boston_terrier_02259.jpg\"]\n",
    "pet_labels = [\"beagle\", \"boston terrier\"]\n",
    "for idx in range(0, len(filenames), 1):\n",
    "    if filenames[idx] not in results_dic:\n",
    "         results_dic[filenames[idx]] = [pet_labels[idx]]\n",
    "    else:\n",
    "         print(\"** Warning: Key=\", filenames[idx], \n",
    "               \"already exists in results_dic with value =\", \n",
    "               results_dic[filenames[idx]])\n",
    "\n",
    "#Iterating through a dictionary printing all keys & their associated values\n",
    "print(\"\\nPrinting all key-value pairs in dictionary results_dic:\")\n",
    "for key in results_dic:\n",
    "    print(\"Filename=\", key, \"   Pet Label=\", results_dic[key][0])"
   ]
  },
  {
   "cell_type": "code",
   "execution_count": 58,
   "id": "12d3ceed",
   "metadata": {},
   "outputs": [
    {
     "data": {
      "text/plain": [
       "{'beagle_0239.jpg': ['beagle'], 'Boston_terrier_02259.jpg': ['boston terrier']}"
      ]
     },
     "execution_count": 58,
     "metadata": {},
     "output_type": "execute_result"
    }
   ],
   "source": [
    "results_dic"
   ]
  },
  {
   "cell_type": "code",
   "execution_count": 62,
   "id": "6d3864b2",
   "metadata": {},
   "outputs": [
    {
     "data": {
      "text/plain": [
       "{'beagle_0239.jpg': ['beagle'],\n",
       " 'Boston_terrier_02259.jpg': ['boston terrier'],\n",
       " 'new_key': ['value']}"
      ]
     },
     "execution_count": 62,
     "metadata": {},
     "output_type": "execute_result"
    }
   ],
   "source": [
    "results_dic['new_key'] = ['value']\n",
    "\n",
    "results_dic"
   ]
  },
  {
   "cell_type": "code",
   "execution_count": 64,
   "id": "48b2e492",
   "metadata": {},
   "outputs": [
    {
     "data": {
      "text/plain": [
       "{'beagle_0239.jpg': ['beagle'],\n",
       " 'Boston_terrier_02259.jpg': ['boston terrier'],\n",
       " 'new_key': ['value', 'value2']}"
      ]
     },
     "execution_count": 64,
     "metadata": {},
     "output_type": "execute_result"
    }
   ],
   "source": [
    "results_dic['new_key'].append('value2')\n",
    "\n",
    "results_dic"
   ]
  },
  {
   "cell_type": "code",
   "execution_count": 60,
   "id": "541d0574",
   "metadata": {},
   "outputs": [
    {
     "data": {
      "text/plain": [
       "['beagle', 'boston terrier']"
      ]
     },
     "execution_count": 60,
     "metadata": {},
     "output_type": "execute_result"
    }
   ],
   "source": [
    "list_for_now = ['beagle']\n",
    "\n",
    "list_for_now.append('boston terrier')\n",
    "list_for_now"
   ]
  },
  {
   "cell_type": "code",
   "execution_count": 74,
   "id": "9e11628c",
   "metadata": {},
   "outputs": [
    {
     "name": "stdout",
     "output_type": "stream",
     "text": [
      "\n",
      "Printing all key-value pairs in dictionary results_dic:\n",
      "Filename= beagle_0239.jpg    Pet Label= beagle\n",
      "Filename= Boston_terrier_02259.jpg    Pet Label= boston terrier\n"
     ]
    }
   ],
   "source": [
    "# a bit trcikier\n",
    "\n",
    "results_dic = dict()\n",
    "\n",
    "filenames = [\"beagle_0239.jpg\", \"Boston_terrier_02259.jpg\"]\n",
    "pet_labels = [\"some_other\", \"beagle\", \"boston terrier\"]\n",
    "for idx in range(0, len(filenames), 1):\n",
    "    if filenames[idx] not in results_dic:\n",
    "        temp_label = str(filenames[idx]).lower()[:-4].split('_')\n",
    "        pet_label = ''.join(i+' ' for i in temp_label if not i.isnumeric())\n",
    "        pet_label = pet_label.strip()\n",
    "        \n",
    "        if filenames[idx] not in results_dic:\n",
    "            if pet_label in pet_labels:\n",
    "                results_dic[filenames[idx]] = [pet_label]\n",
    "        else:\n",
    "            print(\"** Warning: Duplicate files exist in directory:\", \n",
    "                     results_dic[filenames[idx]])\n",
    "\n",
    "# #Iterating through a dictionary printing all keys & their associated values\n",
    "print(\"\\nPrinting all key-value pairs in dictionary results_dic:\")\n",
    "for key in results_dic:\n",
    "    print(\"Filename=\", key, \"   Pet Label=\", results_dic[key][0])"
   ]
  },
  {
   "cell_type": "code",
   "execution_count": 75,
   "id": "6ab32915",
   "metadata": {},
   "outputs": [
    {
     "data": {
      "text/plain": [
       "{'beagle_0239.jpg': ['beagle'], 'Boston_terrier_02259.jpg': ['boston terrier']}"
      ]
     },
     "execution_count": 75,
     "metadata": {},
     "output_type": "execute_result"
    }
   ],
   "source": [
    "results_dic"
   ]
  },
  {
   "cell_type": "code",
   "execution_count": null,
   "id": "3148cf69",
   "metadata": {},
   "outputs": [],
   "source": [
    "[\"beagle_0239.jpg\", \"beagle_0239.jpeg\"]"
   ]
  },
  {
   "cell_type": "code",
   "execution_count": 67,
   "id": "481fdbbe",
   "metadata": {},
   "outputs": [
    {
     "data": {
      "text/plain": [
       "['beagle', '0239']"
      ]
     },
     "execution_count": 67,
     "metadata": {},
     "output_type": "execute_result"
    }
   ],
   "source": [
    "\"beagle.0239.jpeg\".split('.')[:2]"
   ]
  },
  {
   "cell_type": "code",
   "execution_count": 25,
   "id": "4c81b071",
   "metadata": {},
   "outputs": [],
   "source": [
    "# part 4: classify images\n",
    "\n",
    "# what should your dictionary look like?\n",
    "\n",
    "\"\"\"\n",
    "Expected Outcome\n",
    "When completed this code will return a dictionary of lists with the pet image filename as the key and the value will be a list for all 40 pet images in the pet_image folder. This list will contain the following items:\n",
    "\n",
    "Pet image label (index 0)\n",
    "Classifier label (index 1)\n",
    "Comparison of labels (index 2)\n",
    "\"\"\"\n",
    "\n",
    "pass"
   ]
  },
  {
   "cell_type": "code",
   "execution_count": null,
   "id": "e27feef7",
   "metadata": {},
   "outputs": [],
   "source": [
    "# classifier label example 1: beagle\n",
    "# classifier label example 2: cocker spaniel, English cocker spaniel, cocker\n",
    "\n",
    "new_dict = {\n",
    "    \"beagle_0239.jpg\": [\"beagle\", classifier label, 0/1],\n",
    "    \"Boston_terrier_02259.jpg\": [\"boston terrier\", classifier label, 0/1]\n",
    "}"
   ]
  },
  {
   "cell_type": "code",
   "execution_count": 26,
   "id": "913b87ab",
   "metadata": {},
   "outputs": [],
   "source": [
    "\"\"\"\n",
    "Computing the Results\n",
    "For this function you will be inputing the results_dic dictionary that contains:\n",
    "\n",
    "The filenames as keys\n",
    "A list whose only item is the pet image label.\n",
    "You will need to:\n",
    "\n",
    "1) Iterate through this dictionary (results_dic) processing each pet image (filename) with the classifier function to get the classifier label.\n",
    "\n",
    "2) Compare the pet image and classifier labels to determine if they match.\n",
    "\n",
    "3) Add the results to the results dictionary (results_dic).\n",
    "\n",
    "(In Mutable Data Types and Functions you learned that because the results dictionary is a mutable data type you don't need to return it from the classify_images function).\n",
    "\n",
    "Coding recommendations to prevent issues with classify_images:\n",
    "\n",
    "With the classifier function, be certain to concatenate the images_dir with the filename to represent the full path to each pet image file.\n",
    "Put classifier labels in all lower case letters, stripping leading and trailing whitespace from the label.\n",
    "results_dic will have the following format:\n",
    "key = pet image filename (ex: Beagle_01141.jpg)\n",
    "value = List with:\n",
    "index 0 = Pet Image Label (ex: beagle)\n",
    "index 1 = Classifier Label (ex: english foxhound)\n",
    "index 2 = 0/1 where 1 = labels match , 0 = labels don't match (ex: 0)\n",
    "example_dictionary = {'Beagle_01141.jpg': ['beagle', 'english foxhound', 0]}\n",
    "To initialize a key in results_dic, use the assignment operator ( = ) to assigning the value of a list.\n",
    "To add a single item to the list of an existing key in results_dic, append to the list using either += operator or the append function.\n",
    "To add multiple items simultaneously to the list of an existing key in results_dic, use the extend list function.\n",
    "\"\"\"\n",
    "\n",
    "pass"
   ]
  },
  {
   "cell_type": "code",
   "execution_count": null,
   "id": "36faf163",
   "metadata": {},
   "outputs": [],
   "source": [
    "classify.py --img Beagle_01141.jpg\n",
    "\n",
    "\n",
    "\"walker hound, walker foxhound\""
   ]
  },
  {
   "cell_type": "code",
   "execution_count": 77,
   "id": "4e720dbb",
   "metadata": {},
   "outputs": [
    {
     "name": "stdout",
     "output_type": "stream",
     "text": [
      "\n",
      "Filename= Beagle_01141.jpg \n",
      "pet_image Label= beagle \n",
      "Classifier Label= walker hound, walker foxhound \n",
      "match= 0 \n",
      "Image is dog= 1 \n",
      "Classifier is dog= 1\n",
      "*Is-a-Dog Match*\n",
      "\n",
      "Filename= Beagle_01125.jpg \n",
      "pet_image Label= beagle \n",
      "Classifier Label= beagle \n",
      "match= 1 \n",
      "Image is dog= 1 \n",
      "Classifier is dog= 1\n",
      "*Breed Match*\n",
      "*Is-a-Dog Match*\n",
      "\n",
      "Filename= skunk_029.jpg \n",
      "pet_image Label= skunk \n",
      "Classifier Label= skunk, polecat, wood pussy \n",
      "match= 1 \n",
      "Image is dog= 0 \n",
      "Classifier is dog= 0\n",
      "*NOT-a-Dog Match*\n",
      "{'Beagle_01141.jpg': ['beagle', 'walker hound, walker foxhound', 0, 1, 1], 'Beagle_01125.jpg': ['beagle', 'beagle', 1, 1, 1], 'skunk_029.jpg': ['skunk', 'skunk, polecat, wood pussy', 1, 0, 0]}\n"
     ]
    }
   ],
   "source": [
    "# example\n",
    "\n",
    "# Defining lists to populate dictionary \n",
    "filenames = [\"Beagle_01141.jpg\", \"Beagle_01125.jpg\", \"skunk_029.jpg\" ]\n",
    "pet_labels = [\"beagle\", \"beagle\", \"skunk\"]\n",
    "classifier_labels = [\"walker hound, walker foxhound\", \"beagle\",\n",
    "                     \"skunk, polecat, wood pussy\"]\n",
    "pet_label_is_dog = [1, 1, 0]\n",
    "classifier_label_is_dog = [1, 1, 0]\n",
    "\n",
    "# names of dog breeds\n",
    "\n",
    "# Defining empty dictionary\n",
    "results_dic = dict()\n",
    "\n",
    "# Populates empty dictionary with both labels &indicates if they match (idx 2)\n",
    "for idx in range (0, len(filenames), 1):\n",
    "    # If first time key is assigned initialize the list with pet & \n",
    "    # classifier labels\n",
    "    if filenames[idx] not in results_dic:\n",
    "        results_dic[filenames[idx]] = [ pet_labels[idx], classifier_labels[idx] ]\n",
    "\n",
    "    # Determine if pet_labels matches classifier_labels using in operator\n",
    "    # - so if pet label is 'in' classifier label it's a match\n",
    "    # ALSO since Key already exists because labels were added, append \n",
    "    # value to end of list for idx 2 \n",
    "    # if pet image label was FOUND then there is a match \n",
    "    if pet_labels[idx] in classifier_labels[idx]:\n",
    "        results_dic[filenames[idx]].append(1)\n",
    "\n",
    "    # if pet image label was NOT found then there is no match\n",
    "    else:\n",
    "        results_dic[filenames[idx]].append(0)\n",
    "\n",
    "\n",
    "# Populates dictionary with whether or not labels indicate a dog image (idx 3&4)\n",
    "for idx in range (0, len(filenames), 1):\n",
    "    # Key already exists, extend values to end of list for idx 3 & 4\n",
    "    results_dic[filenames[idx]].extend([pet_label_is_dog[idx], \n",
    "                                       classifier_label_is_dog[idx]])\n",
    "\n",
    "# Iterates through the list to print the results for each filename\n",
    "for key in results_dic:\n",
    "    print(\"\\nFilename=\", key, \"\\npet_image Label=\", results_dic[key][0],\n",
    "          \"\\nClassifier Label=\", results_dic[key][1], \"\\nmatch=\",\n",
    "          results_dic[key][2], \"\\nImage is dog=\", results_dic[key][3],\n",
    "          \"\\nClassifier is dog=\", results_dic[key][4])                        \n",
    "\n",
    "    # Provides classifications of the results\n",
    "    if sum(results_dic[key][2:]) == 3:\n",
    "        print(\"*Breed Match*\")\n",
    "    if sum(results_dic[key][3:]) == 2:\n",
    "        print(\"*Is-a-Dog Match*\")\n",
    "    if sum(results_dic[key][3:]) == 0 and results_dic[key][2] == 1:\n",
    "        print(\"*NOT-a-Dog Match*\")\n",
    "print(results_dic)"
   ]
  },
  {
   "cell_type": "code",
   "execution_count": 85,
   "id": "12056d2c",
   "metadata": {},
   "outputs": [
    {
     "data": {
      "text/plain": [
       "2"
      ]
     },
     "execution_count": 85,
     "metadata": {},
     "output_type": "execute_result"
    }
   ],
   "source": [
    "total_match = 0\n",
    "for idx in range (0, len(filenames), 1):\n",
    "    total_match += results_dic[filenames[idx]][2]\n",
    "\n",
    "total_match"
   ]
  },
  {
   "cell_type": "code",
   "execution_count": 86,
   "id": "df7358a6",
   "metadata": {},
   "outputs": [
    {
     "name": "stdout",
     "output_type": "stream",
     "text": [
      "{'Beagle_01141.jpg': ['beagle', 'walker hound, walker foxhound', 0, 1, 1], 'Beagle_01125.jpg': ['beagle', 'beagle', 1, 1, 1], 'skunk_029.jpg': ['skunk', 'skunk, polecat, wood pussy', 1, 0, 0]}\n"
     ]
    }
   ],
   "source": [
    "print(results_dic)"
   ]
  },
  {
   "cell_type": "code",
   "execution_count": 29,
   "id": "b99c4ddf",
   "metadata": {},
   "outputs": [],
   "source": [
    "# part 5: Adjusting Results Dictionary\n",
    "\n",
    "# read dogfile.txt and compare with index 0 and 1\n",
    "# dogfile has a dogbreed at each line\n",
    "\n",
    "\"\"\"Once you have read the dog names into dognames_dic, you will need to adjust the results dictionary (results_dic) to account for when labels were correctly or incorrectly classified as dogs.\n",
    "\n",
    "Review section Classifying Labels as Dogs to review how to iterate through the results dictionary to append values onto the list that is the value for each key in the results dictionary. If you want to append both values at the same time, you will need to use the extend list function to add both index 3 and index 4 to the results_dic simultaneously.\n",
    "\n",
    "results_dic will have the following adjusted format:\n",
    "\n",
    "key = pet image filename (ex: Beagle_01141.jpg)\n",
    "value = List with:\n",
    "index 0 = Pet Image Label (ex: beagle)\n",
    "index 1 = Classifier Label (ex: english foxhound)\n",
    "index 2 = 0/1 where 1 = labels match , 0 = labels don't match (ex: 0)\n",
    "index 3 = 0/1 where 1= Pet Image Label is a dog, 0 = Pet Image Label isn't a dog (ex: 1)\n",
    "index 4 = 0/1 where 1= Classifier Label is a dog, 0 = Classifier Label isn't a dog (ex: 1)\n",
    "example_dictionary = {'Beagle_01141.jpg': ['beagle', 'walker hound, walker foxhound', 0, 1, 1]}\"\"\"\n",
    "\n",
    "pass"
   ]
  },
  {
   "cell_type": "code",
   "execution_count": null,
   "id": "43092196",
   "metadata": {},
   "outputs": [],
   "source": []
  },
  {
   "cell_type": "code",
   "execution_count": 30,
   "id": "87c2c439",
   "metadata": {},
   "outputs": [],
   "source": [
    "# example_dictionary = {'Beagle_01141.jpg': ['beagle', 'walker hound, walker foxhound', 0, 1, 1]}"
   ]
  },
  {
   "cell_type": "code",
   "execution_count": null,
   "id": "f1fd978a",
   "metadata": {},
   "outputs": [],
   "source": []
  },
  {
   "cell_type": "code",
   "execution_count": 31,
   "id": "c62802ea",
   "metadata": {},
   "outputs": [],
   "source": [
    "# calculate resulst\n",
    "\n",
    "# iterate, add, calculate.\n",
    "# let's look at corresponding hints.py"
   ]
  }
 ],
 "metadata": {
  "kernelspec": {
   "display_name": "Python 3 (ipykernel)",
   "language": "python",
   "name": "python3"
  },
  "language_info": {
   "codemirror_mode": {
    "name": "ipython",
    "version": 3
   },
   "file_extension": ".py",
   "mimetype": "text/x-python",
   "name": "python",
   "nbconvert_exporter": "python",
   "pygments_lexer": "ipython3",
   "version": "3.10.8"
  }
 },
 "nbformat": 4,
 "nbformat_minor": 5
}
